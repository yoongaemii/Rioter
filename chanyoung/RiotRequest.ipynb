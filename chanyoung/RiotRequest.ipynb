{
 "cells": [
  {
   "cell_type": "markdown",
   "metadata": {},
   "source": [
    "## App Rate\n",
    "app rate에 적용을 받는 리퀘스트만 헤더에 아래 항목이 나타난다  \n",
    "Included in any 429 response where the rate limit was enforced by the API infrastructure. Not included in any 429 response where the rate limit was enforced by the underlying service to which the request was proxied.  \n",
    "* X-App-Rate-Limit: the number of calls your API key is allowed to make during that bucket and the duration of the bucket in seconds, separated by a colon(예: '20:1, 100:120')\n",
    "* X-App-Rate-Limit-Count: the number of request you actually made: bucket limit in seconds  \n",
    "\n",
    "## Method Rate\n",
    "Included in the response for all API calls that enforce a method rate limit\n",
    "* X-Method-Rate-Limit\n",
    "* X-Method-Rate-Limit-Count  \n",
    "\n",
    "현재는 우선 error가 발생했을 때 retry-after만큼 sleep했다가 다시 시도하는 메소드"
   ]
  },
  {
   "cell_type": "code",
   "execution_count": 22,
   "metadata": {},
   "outputs": [],
   "source": [
    "import requests\n",
    "import json\n",
    "import time"
   ]
  },
  {
   "cell_type": "code",
   "execution_count": 28,
   "metadata": {},
   "outputs": [],
   "source": [
    "def RiotRequest(url):\n",
    "    '''\n",
    "    Make a request handling errors and return python dictionary object\n",
    "    429 Error: Exceeded Rate Limiting. Retry after sleeping few seconds.\n",
    "    Other Errors: to be handled\n",
    "    '''\n",
    "    while True:\n",
    "        try: \n",
    "            r = requests.get(url)\n",
    "            print(r.status_code)\n",
    "            json_data = json.loads(r.content.decode(\"utf-8\"))\n",
    "            return json_data\n",
    "        except:\n",
    "            # python에는 switch문이 없나\n",
    "            if r.status_code == 429: # rate limiting error\n",
    "                time.sleep(r.headers['Retry-After'])\n",
    "                print('Exceeded Rate Limiting. Retry After {} seconds'.format(r.headers['Retry-After']))\n",
    "                continue\n",
    "            else: # unidentified error\n",
    "                return # terminate function call \n"
   ]
  }
 ],
 "metadata": {
  "kernelspec": {
   "display_name": "Python 3",
   "language": "python",
   "name": "python3"
  },
  "language_info": {
   "codemirror_mode": {
    "name": "ipython",
    "version": 3
   },
   "file_extension": ".py",
   "mimetype": "text/x-python",
   "name": "python",
   "nbconvert_exporter": "python",
   "pygments_lexer": "ipython3",
   "version": "3.7.1"
  }
 },
 "nbformat": 4,
 "nbformat_minor": 2
}
