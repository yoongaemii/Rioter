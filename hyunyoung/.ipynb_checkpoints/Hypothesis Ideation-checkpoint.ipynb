{
 "cells": [
  {
   "cell_type": "code",
   "execution_count": 1,
   "metadata": {},
   "outputs": [],
   "source": [
    "from RiotAPI import *\n",
    "import requests"
   ]
  },
  {
   "cell_type": "code",
   "execution_count": 2,
   "metadata": {},
   "outputs": [],
   "source": [
    "game_id = 3309773060\n",
    "summoner_name = \"야너어어어엌\"\n",
    "account_id = get_account_id(summoner_name)"
   ]
  },
  {
   "cell_type": "code",
   "execution_count": 14,
   "metadata": {},
   "outputs": [
    {
     "data": {
      "text/plain": [
       "'4km1QPNT0eUUjYLbt1Vugxh4hGPFN4CgM9VJ0A9rTCFi'"
      ]
     },
     "execution_count": 14,
     "metadata": {},
     "output_type": "execute_result"
    }
   ],
   "source": [
    "account_id"
   ]
  },
  {
   "cell_type": "code",
   "execution_count": 15,
   "metadata": {},
   "outputs": [],
   "source": [
    "# 기존에 작성한 함수와 다른 함수\n",
    "def get_match_history(account_id):\n",
    "    '''\n",
    "    input: account_id\n",
    "    output: {'matches': List[MatchReferenceDto], 'totalGames':int, 'startIndex':int, 'endIndex':int}\n",
    "    MatchReferenceDto: {'platformId', 'gameId', 'champion', 'queue', 'season', 'timestamp', 'role', 'lane'}\n",
    "    '''\n",
    "    \n",
    "    beginIndex = 101\n",
    "    api_data = requests.get(\"https://kr.api.riotgames.com/lol/match/v4/matchlists/by-account/{0}?api_key={1}&beginIndex={2}\"\\\n",
    "                            .format(account_id, api_key, beginIndex))\n",
    "    json_data = json.loads(api_data.content.decode(\"utf-8\")) \n",
    "    \n",
    "    return json_data\n",
    "\n",
    "def get_endTime(game_id):\n",
    "    detail = get_game_detail(game_id)\n",
    "    end = detail['gameCreation'] + detail['gameDuration'] \n",
    "    # 참고: match_history의 timestamp와 game_detail의 timeCreation은 항상 값이 같다\n",
    "    return end\n",
    "\n",
    "from datetime import timedelta\n",
    "def convert_timestamp(timestamp):\n",
    "    '''\n",
    "    convert milisecond timestamp into python timedelta object\n",
    "    for sake of compatiability, convert into only minutes and seconds (without hours)\n",
    "    '''\n",
    "    minDelta = timestamp // 60000 # 60000 miliseconds == 1 minute\n",
    "    secDelta = (timestamp % 60000) // 1000 # 1000 miliseconds == 1 second\n",
    "    return timedelta(minutes = minDelta, seconds = secDelta)\n",
    "\n",
    "def convert_timestamp(timestamp):\n",
    "    '''convert unix timestamp into python datetime object with Korean Timezone'''\n",
    "    pass\n",
    "    "
   ]
  },
  {
   "cell_type": "code",
   "execution_count": 13,
   "metadata": {},
   "outputs": [
    {
     "data": {
      "text/plain": [
       "{'status': {'message': 'Forbidden', 'status_code': 403}}"
      ]
     },
     "execution_count": 13,
     "metadata": {},
     "output_type": "execute_result"
    }
   ],
   "source": [
    "beginIndex = 101\n",
    "api_data = requests.get(\"https://kr.api.riotgames.com/lol/match/v4/matchlists/by-account/{0}/beginIndex/{2}?api_key={1}\"\\\n",
    "                            .format(account_id, api_key, startIndex))\n",
    "json_data = json.loads(api_data.content.decode(\"utf-8\")) \n",
    "json_data"
   ]
  },
  {
   "cell_type": "code",
   "execution_count": 1,
   "metadata": {},
   "outputs": [],
   "source": [
    "# get_match_history(account_id)"
   ]
  },
  {
   "cell_type": "code",
   "execution_count": 2,
   "metadata": {},
   "outputs": [],
   "source": [
    "# matches"
   ]
  },
  {
   "cell_type": "code",
   "execution_count": null,
   "metadata": {},
   "outputs": [],
   "source": []
  }
 ],
 "metadata": {
  "kernelspec": {
   "display_name": "Python 3",
   "language": "python",
   "name": "python3"
  },
  "language_info": {
   "codemirror_mode": {
    "name": "ipython",
    "version": 3
   },
   "file_extension": ".py",
   "mimetype": "text/x-python",
   "name": "python",
   "nbconvert_exporter": "python",
   "pygments_lexer": "ipython3",
   "version": "3.6.5"
  }
 },
 "nbformat": 4,
 "nbformat_minor": 2
}
