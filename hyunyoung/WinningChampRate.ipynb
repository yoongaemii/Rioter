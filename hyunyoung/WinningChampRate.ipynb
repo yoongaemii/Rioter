{
 "cells": [
  {
   "cell_type": "code",
   "execution_count": 2,
   "metadata": {},
   "outputs": [],
   "source": [
    "from RiotAPI import *\n",
    "import requests\n",
    "from pprint import pprint"
   ]
  },
  {
   "cell_type": "code",
   "execution_count": 3,
   "metadata": {},
   "outputs": [],
   "source": [
    "tiers = ['IRON', 'BRONZE', 'SILVER', 'GOLD', 'PLATINUM', 'DIAMOND']\n",
    "divisions = ['I', 'II', 'III', 'IV']\n",
    "# queue = ['RANKED_SOLO_5x5', 'RANKED_FLEX_SR', 'RANKED_FLEX_TT']\n",
    "queue = 'RANKED_SOLO_5x5' # 솔랭을 기준으로"
   ]
  },
  {
   "cell_type": "code",
   "execution_count": 4,
   "metadata": {},
   "outputs": [
    {
     "name": "stdout",
     "output_type": "stream",
     "text": [
      "['야이 딱딱구리야', '탄현 봇듀 미드', '규동황', '앞산전망대', '청마탄왕자의청마', '2004 03 05', '스근하게 드루와', '한강외로', '농담아닌데', '박옥규', '남친제조기', '꿍 하고 박아또', 'loloko', '하앍기모찌이이', '드디어민간', '아기공룡티라노', '조한량', '리퍼크', 'Is real Carey', '화이트다크', '내가만든바나나', '친일파 학수', '친구할레', '뽈알충전완료', '글라맹고', '빠쟁흐규', '창화야고기사줘', '아름달이', '조씨의하루', '라이트닝풋', 'support Alistar', 'KID프리덤', '고 바 니', '분노는 내긍지', '나는 밍수', '오병규', '쌍트빼쩨르부르크', '물많은정숙이', '우지건', '장발장잡는자베르', '아리가또가또', '강승삼', '상고마찐이', 'YellowsoO', '길수찡', '골드까지판테온만', 'lollollolroll', '롯데호', '고다치즈스프', '옆에서자꾸뭐라함', 'hell or heaven7', '타도박근혜', '10분후던짐', '언제나갑부', '삐빠빠뿔라', '여미지식물원', 'Devil Trans', 'APZEUS', '민성형', '김경호암살자', '쇼미 the 뭐니', 'Ed precarious', 'onepuch', '하루밖에', '상계동말년', '차의영역', 'dkansk0451', 'LoveryBoy', '욱하지말자', '꽁승따위는없다', 'hot바디', '중고차의모든것', '나는천안호두과자', '허이따후', '람머르기니 왕', '갓벵거짱짱맨', 'cowjdrud3241', 'Hello sydney', '원딜이조트라', 'mingV', '던지자1', '카구팔1', '의정잇', '매국진보 노무현', '하이후헤호', 'LON soae', '자인령', '점핑피쉬', 'Pica tool', 'Cloud form', '벼 로', '연희동백곰', '777Moon', 'twrt', '먹버고려', '씁씁후후', '인베머리', '해지별', 'Do Not Surrender', 'KoKOtome', '부산쿠마', 'A  Flower Cloud', '몰락의 에티카', '절루가봐', 'dikedike', 'loom', '치킨내노라고', 'FUGLY12', 'mint맛초콜릿', '라이언sam병', '더컨설턴트', '여보게당신', 'SaEngGU', '조성짱', 'Alice eve', '그깟이꺼대충대충', '좋나좋군', '명랑HOTDOG', '홀리갇', '모시기임돠', '상한주스', 'Iron에 살아남기', '뒷자석아저씨 ', 'Liug', '섹쉬한내뒷태', '리얼후다김진오', '문지환', '영득갓', 'argaddo맘마', 'ComposerGrace', '해운대대대장', 'cu cute rabbit', 'hulu', '명수파두목', '리그오브얼치기', '방광준군대가요', 'StopBack', 'Smoke Check', 'Julisus', '기적은개뿔', '유 솔', '햄라볶이', 'Frozen 대디', '한양머생', 'jjjjjjjyjjjjjjjj', '허나어시터', 'fashionkiller', 'nittsan', '꺄아아앙 저리가', 'Warwicker', '민스걸', 'WAU Wolf', '궁궐문', '산이산이', '원소술사 문재인', '다빈아살살해', '황민해짱', '내눈에멘소래담', '므넹이', 'pasehu', '대전시장님', '양태국', '모든아이템', '개포리아', '신쪼이', '늉진접', 'KOTI', 'Ability Of Riven', '오늘의첫번째픽', 'SKGang', '페이커타짜', 'douplay', '추적사랑꾼', '빈쥐놉', 'Detoles', 'bruce wang', '고래구이', '스물여덜번째아침', '빛 문', '우리팀아님', 'MentalLess', 'SheBSD', 'Nimi sward', '민빡이', '티이케', '숑의남자', '수금토토일도비팍', 'Crudeplay', '대한민군Y', '미니피온', '시간을달리는난감', '꿸 르', 'Secret gardener', '테트리스트훈', '에거시크리스티', 'm시디베', 'The nickname', 'Howl52', '유교소환사', '서커튼', '개삿댐', '타쿠타쿠', '전체채팅차단했음', '탑승권', '고붕어']\n"
     ]
    }
   ],
   "source": [
    "# Get a list of user_id from each tier\n",
    "# For each tier exists 4 divisions as roman numeric string\n",
    "tier = tiers[0]\n",
    "division = divisions[0]\n",
    "api_data = requests.get(\"https://kr.api.riotgames.com/lol/league/v4/entries/{0}/{1}/{2}?api_key={3}\".format(queue, tier, division, api_key))\n",
    "# list of dictionaries which has 'summonerId', 'summonerName' as a key in it\n",
    "# summonerId =! accountId\n",
    "json_data = json.loads(api_data.content.decode(\"utf-8\"))  \n",
    "summonerNames = [usr['summonerName'] for usr in json_data]\n",
    "print(summonerNames)\n",
    "# print(len(accounts))"
   ]
  },
  {
   "cell_type": "code",
   "execution_count": 5,
   "metadata": {},
   "outputs": [
    {
     "data": {
      "text/plain": [
       "'64YkVJIiNYg2G2-NN-HT1YfLTGM6DnmSxE8ylmHZQE3z'"
      ]
     },
     "execution_count": 5,
     "metadata": {},
     "output_type": "execute_result"
    }
   ],
   "source": [
    "get_account_id(summonerNames[0])"
   ]
  },
  {
   "cell_type": "code",
   "execution_count": 6,
   "metadata": {},
   "outputs": [
    {
     "data": {
      "text/plain": [
       "{'queueType': 'RANKED_SOLO_5x5',\n",
       " 'tier': 'IRON',\n",
       " 'rank': 'I',\n",
       " 'summonerId': 'mcUUTZ1svel46ZLSCy1HMqbmIJW5e4OhmQAabE2dGQrlTkc',\n",
       " 'summonerName': '야이 딱딱구리야',\n",
       " 'leaguePoints': 100,\n",
       " 'wins': 4,\n",
       " 'losses': 5,\n",
       " 'veteran': False,\n",
       " 'inactive': False,\n",
       " 'freshBlood': False,\n",
       " 'hotStreak': False,\n",
       " 'miniSeries': {'target': 3, 'wins': 0, 'losses': 0, 'progress': 'NNNNN'}}"
      ]
     },
     "execution_count": 6,
     "metadata": {},
     "output_type": "execute_result"
    }
   ],
   "source": [
    "json_data[0]"
   ]
  },
  {
   "cell_type": "markdown",
   "metadata": {},
   "source": [
    "### Reqeust exception handling\n",
    "https://stackoverflow.com/questions/16511337/correct-way-to-try-except-using-python-requests-module"
   ]
  },
  {
   "cell_type": "code",
   "execution_count": null,
   "metadata": {},
   "outputs": [],
   "source": []
  }
 ],
 "metadata": {
  "kernelspec": {
   "display_name": "Python 3",
   "language": "python",
   "name": "python3"
  },
  "language_info": {
   "codemirror_mode": {
    "name": "ipython",
    "version": 3
   },
   "file_extension": ".py",
   "mimetype": "text/x-python",
   "name": "python",
   "nbconvert_exporter": "python",
   "pygments_lexer": "ipython3",
   "version": "3.6.5"
  }
 },
 "nbformat": 4,
 "nbformat_minor": 2
}
