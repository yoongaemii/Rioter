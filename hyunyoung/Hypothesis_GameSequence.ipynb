{
 "cells": [
  {
   "cell_type": "code",
   "execution_count": 2,
   "metadata": {},
   "outputs": [],
   "source": [
    "import config\n",
    "from RiotAPI import *\n",
    "from RiotRequest import RiotRequest\n",
    "import requests"
   ]
  },
  {
   "cell_type": "code",
   "execution_count": 3,
   "metadata": {},
   "outputs": [],
   "source": [
    "# timestamp handling functions\n",
    "from datetime import timedelta\n",
    "from datetime import datetime\n",
    "import pytz\n",
    "\n",
    "def convert_timedelta(milisecs):\n",
    "    '''\n",
    "    convert milisecond timestamp into python timedelta object\n",
    "    for sake of compatiability, convert into only minutes and seconds (without hours)\n",
    "    '''\n",
    "    minDelta = timestamp // 60000 # 60000 miliseconds == 1 minute\n",
    "    secDelta = (timestamp % 60000) // 1000 # 1000 miliseconds == 1 second\n",
    "    return timedelta(minutes = minDelta, seconds = secDelta)\n",
    "\n",
    "def convert_timestamp(timestamp):\n",
    "    '''convert unix timestamp(long) into python datetime object with Korean Timezone'''\n",
    "   \n",
    "    # dealing with miliseconds part\n",
    "    timestamp = timestamp/1000\n",
    "    # convert from utc into datetime timestamp\n",
    "    dt = datetime.utcfromtimestamp(timestamp).replace(tzinfo=pytz.utc)\n",
    "    \n",
    "    # convert into Korean timezone\n",
    "    tz = pytz.timezone(\"Asia/Seoul\")\n",
    "    dt_kr = dt.astimezone(tz)\n",
    "    \n",
    "    return dt_kr"
   ]
  },
  {
   "cell_type": "code",
   "execution_count": 4,
   "metadata": {},
   "outputs": [],
   "source": [
    "api_key = config.api_key\n",
    "game_id = 3309773060\n",
    "summoner_name = \"야너어어어엌\"\n",
    "account_id = get_account_id(summoner_name)"
   ]
  },
  {
   "cell_type": "markdown",
   "metadata": {},
   "source": [
    "## Match Time History"
   ]
  },
  {
   "cell_type": "code",
   "execution_count": 5,
   "metadata": {
    "scrolled": true
   },
   "outputs": [],
   "source": [
    "history = [match['gameId'] for match in get_match_history(account_id)]"
   ]
  },
  {
   "cell_type": "code",
   "execution_count": 6,
   "metadata": {},
   "outputs": [
    {
     "data": {
      "text/plain": [
       "568"
      ]
     },
     "execution_count": 6,
     "metadata": {},
     "output_type": "execute_result"
    }
   ],
   "source": [
    "len(history)"
   ]
  },
  {
   "cell_type": "code",
   "execution_count": 7,
   "metadata": {},
   "outputs": [
    {
     "name": "stdout",
     "output_type": "stream",
     "text": [
      "Exceeded Rate Limiting. Will retry After 79 seconds\n",
      "Exceeded Rate Limiting. Will retry After 77 seconds\n",
      "Exceeded Rate Limiting. Will retry After 79 seconds\n"
     ]
    }
   ],
   "source": [
    "# get game detail에서 gameCreation이랑 gameDuration만 불러오기\n",
    "\n",
    "# 이러면 get_game_detail을 두 번 호출함ㅜㅜ --> 너무 오래걸림\n",
    "# history = [[matchId, get_game_detail(matchId)['gameCreation'], get_game_detail(matchId)['gameDuration']] for matchId in history]\n",
    "\n",
    "def get_timeinfo(matchId):\n",
    "    detail = get_game_detail(matchId)\n",
    "    return [matchId, detail['gameCreation'], detail['gameDuration']]\n",
    "\n",
    "# temporarily recent 300 games\n",
    "time_history = [get_timeinfo(matchId) for matchId in history[:300]]\n"
   ]
  },
  {
   "cell_type": "code",
   "execution_count": 8,
   "metadata": {},
   "outputs": [],
   "source": [
    "import pandas as pd\n",
    "match_df = pd.DataFrame(time_history, columns=['matchId', 'creation', 'duration'])"
   ]
  },
  {
   "cell_type": "code",
   "execution_count": 9,
   "metadata": {},
   "outputs": [
    {
     "data": {
      "text/html": [
       "<div>\n",
       "<style scoped>\n",
       "    .dataframe tbody tr th:only-of-type {\n",
       "        vertical-align: middle;\n",
       "    }\n",
       "\n",
       "    .dataframe tbody tr th {\n",
       "        vertical-align: top;\n",
       "    }\n",
       "\n",
       "    .dataframe thead th {\n",
       "        text-align: right;\n",
       "    }\n",
       "</style>\n",
       "<table border=\"1\" class=\"dataframe\">\n",
       "  <thead>\n",
       "    <tr style=\"text-align: right;\">\n",
       "      <th></th>\n",
       "      <th>matchId</th>\n",
       "      <th>creation</th>\n",
       "      <th>duration</th>\n",
       "      <th>ended</th>\n",
       "      <th>creation_dt</th>\n",
       "      <th>ended_dt</th>\n",
       "    </tr>\n",
       "  </thead>\n",
       "  <tbody>\n",
       "    <tr>\n",
       "      <th>0</th>\n",
       "      <td>3663346965</td>\n",
       "      <td>1557981210348</td>\n",
       "      <td>1285</td>\n",
       "      <td>1557982495348</td>\n",
       "      <td>2019-05-16 13:33:30.348000+09:00</td>\n",
       "      <td>2019-05-16 13:54:55.348000+09:00</td>\n",
       "    </tr>\n",
       "    <tr>\n",
       "      <th>1</th>\n",
       "      <td>3663315079</td>\n",
       "      <td>1557979516493</td>\n",
       "      <td>1501</td>\n",
       "      <td>1557981017493</td>\n",
       "      <td>2019-05-16 13:05:16.493000+09:00</td>\n",
       "      <td>2019-05-16 13:30:17.493000+09:00</td>\n",
       "    </tr>\n",
       "    <tr>\n",
       "      <th>2</th>\n",
       "      <td>3662344066</td>\n",
       "      <td>1557912999893</td>\n",
       "      <td>1220</td>\n",
       "      <td>1557914219893</td>\n",
       "      <td>2019-05-15 18:36:39.893000+09:00</td>\n",
       "      <td>2019-05-15 18:56:59.893000+09:00</td>\n",
       "    </tr>\n",
       "    <tr>\n",
       "      <th>3</th>\n",
       "      <td>3659959097</td>\n",
       "      <td>1557747014172</td>\n",
       "      <td>1783</td>\n",
       "      <td>1557748797172</td>\n",
       "      <td>2019-05-13 20:30:14.172000+09:00</td>\n",
       "      <td>2019-05-13 20:59:57.172000+09:00</td>\n",
       "    </tr>\n",
       "    <tr>\n",
       "      <th>4</th>\n",
       "      <td>3658808527</td>\n",
       "      <td>1557660795816</td>\n",
       "      <td>1698</td>\n",
       "      <td>1557662493816</td>\n",
       "      <td>2019-05-12 20:33:15.816000+09:00</td>\n",
       "      <td>2019-05-12 21:01:33.816000+09:00</td>\n",
       "    </tr>\n",
       "  </tbody>\n",
       "</table>\n",
       "</div>"
      ],
      "text/plain": [
       "      matchId       creation  duration          ended  \\\n",
       "0  3663346965  1557981210348      1285  1557982495348   \n",
       "1  3663315079  1557979516493      1501  1557981017493   \n",
       "2  3662344066  1557912999893      1220  1557914219893   \n",
       "3  3659959097  1557747014172      1783  1557748797172   \n",
       "4  3658808527  1557660795816      1698  1557662493816   \n",
       "\n",
       "                       creation_dt                         ended_dt  \n",
       "0 2019-05-16 13:33:30.348000+09:00 2019-05-16 13:54:55.348000+09:00  \n",
       "1 2019-05-16 13:05:16.493000+09:00 2019-05-16 13:30:17.493000+09:00  \n",
       "2 2019-05-15 18:36:39.893000+09:00 2019-05-15 18:56:59.893000+09:00  \n",
       "3 2019-05-13 20:30:14.172000+09:00 2019-05-13 20:59:57.172000+09:00  \n",
       "4 2019-05-12 20:33:15.816000+09:00 2019-05-12 21:01:33.816000+09:00  "
      ]
     },
     "execution_count": 9,
     "metadata": {},
     "output_type": "execute_result"
    }
   ],
   "source": [
    "# add unix timestamp of the time game ended\n",
    "match_df['ended'] = match_df['creation'] + match_df['duration']*1000\n",
    "\n",
    "# add datetime columns for creation and ending time\n",
    "match_df['creation_dt'] = match_df['creation'].apply(convert_timestamp)\n",
    "match_df['ended_dt'] = match_df['ended'].apply(convert_timestamp)\n",
    "\n",
    "match_df.head()"
   ]
  },
  {
   "cell_type": "markdown",
   "metadata": {},
   "source": [
    "## Grouping Matches\n",
    "__match_df: 개별 게임 기록을 하나의 row로 하는 dataframe__\n",
    "- matchId(index)\n",
    "- creation: __long__ 게임이 시작하는 unix timestamp\n",
    "- duration: __int__ 게임 지속 시간 in seconds (*millisedconds가 아님에 유의*)\n",
    "- ended: __long__ 게임이 끝나는 unix timestamp\n",
    "- creation_dt: __datetime__ creation을 korean time으로 전환한 시각   \n",
    "- ended_dt: __datetime__ ended를 korean time으로 전환한 시각  \n",
    "- diff: __long__ 이번 판과 다음 판(시간 상으로 다음판, row 순서로는 바로 위 row)과의 시간 차이 in seconds\n",
    "\n",
    "__seq_df: 연속 게임 기록을 하나의 row로 하는 dataframe__\n",
    "- matchIds: list[matchId]\n",
    "- matchNum: __int__ 연속으로 한 판 수\n",
    "- start_dt: __datetime__ 연속 게임 기록의 시작시간\n",
    "- end_dt: __datetime__ 연속 게임 기록의 끝나는 시간"
   ]
  },
  {
   "cell_type": "code",
   "execution_count": 11,
   "metadata": {},
   "outputs": [
    {
     "data": {
      "text/plain": [
       "299"
      ]
     },
     "execution_count": 11,
     "metadata": {},
     "output_type": "execute_result"
    }
   ],
   "source": [
    "import numpy as np\n",
    "diff = np.array(match_df['creation'][:-1]) - np.array(match_df['ended'][1:])\n",
    "len(diff)"
   ]
  },
  {
   "cell_type": "code",
   "execution_count": 12,
   "metadata": {},
   "outputs": [],
   "source": [
    "import matplotlib\n",
    "import matplotlib.pyplot as plt\n",
    "plt = plt.hist(diff)"
   ]
  },
  {
   "cell_type": "code",
   "execution_count": 13,
   "metadata": {},
   "outputs": [
    {
     "data": {
      "text/html": [
       "<div>\n",
       "<style scoped>\n",
       "    .dataframe tbody tr th:only-of-type {\n",
       "        vertical-align: middle;\n",
       "    }\n",
       "\n",
       "    .dataframe tbody tr th {\n",
       "        vertical-align: top;\n",
       "    }\n",
       "\n",
       "    .dataframe thead th {\n",
       "        text-align: right;\n",
       "    }\n",
       "</style>\n",
       "<table border=\"1\" class=\"dataframe\">\n",
       "  <thead>\n",
       "    <tr style=\"text-align: right;\">\n",
       "      <th></th>\n",
       "      <th>matchId</th>\n",
       "      <th>creation</th>\n",
       "      <th>duration</th>\n",
       "      <th>ended</th>\n",
       "      <th>creation_dt</th>\n",
       "      <th>ended_dt</th>\n",
       "      <th>diff</th>\n",
       "    </tr>\n",
       "  </thead>\n",
       "  <tbody>\n",
       "    <tr>\n",
       "      <th>0</th>\n",
       "      <td>3663346965</td>\n",
       "      <td>1557981210348</td>\n",
       "      <td>1285</td>\n",
       "      <td>1557982495348</td>\n",
       "      <td>2019-05-16 13:33:30.348000+09:00</td>\n",
       "      <td>2019-05-16 13:54:55.348000+09:00</td>\n",
       "      <td>inf</td>\n",
       "    </tr>\n",
       "    <tr>\n",
       "      <th>1</th>\n",
       "      <td>3663315079</td>\n",
       "      <td>1557979516493</td>\n",
       "      <td>1501</td>\n",
       "      <td>1557981017493</td>\n",
       "      <td>2019-05-16 13:05:16.493000+09:00</td>\n",
       "      <td>2019-05-16 13:30:17.493000+09:00</td>\n",
       "      <td>1.928550e+05</td>\n",
       "    </tr>\n",
       "    <tr>\n",
       "      <th>2</th>\n",
       "      <td>3662344066</td>\n",
       "      <td>1557912999893</td>\n",
       "      <td>1220</td>\n",
       "      <td>1557914219893</td>\n",
       "      <td>2019-05-15 18:36:39.893000+09:00</td>\n",
       "      <td>2019-05-15 18:56:59.893000+09:00</td>\n",
       "      <td>6.529660e+07</td>\n",
       "    </tr>\n",
       "    <tr>\n",
       "      <th>3</th>\n",
       "      <td>3659959097</td>\n",
       "      <td>1557747014172</td>\n",
       "      <td>1783</td>\n",
       "      <td>1557748797172</td>\n",
       "      <td>2019-05-13 20:30:14.172000+09:00</td>\n",
       "      <td>2019-05-13 20:59:57.172000+09:00</td>\n",
       "      <td>1.642027e+08</td>\n",
       "    </tr>\n",
       "    <tr>\n",
       "      <th>4</th>\n",
       "      <td>3658808527</td>\n",
       "      <td>1557660795816</td>\n",
       "      <td>1698</td>\n",
       "      <td>1557662493816</td>\n",
       "      <td>2019-05-12 20:33:15.816000+09:00</td>\n",
       "      <td>2019-05-12 21:01:33.816000+09:00</td>\n",
       "      <td>8.452036e+07</td>\n",
       "    </tr>\n",
       "  </tbody>\n",
       "</table>\n",
       "</div>"
      ],
      "text/plain": [
       "      matchId       creation  duration          ended  \\\n",
       "0  3663346965  1557981210348      1285  1557982495348   \n",
       "1  3663315079  1557979516493      1501  1557981017493   \n",
       "2  3662344066  1557912999893      1220  1557914219893   \n",
       "3  3659959097  1557747014172      1783  1557748797172   \n",
       "4  3658808527  1557660795816      1698  1557662493816   \n",
       "\n",
       "                       creation_dt                         ended_dt  \\\n",
       "0 2019-05-16 13:33:30.348000+09:00 2019-05-16 13:54:55.348000+09:00   \n",
       "1 2019-05-16 13:05:16.493000+09:00 2019-05-16 13:30:17.493000+09:00   \n",
       "2 2019-05-15 18:36:39.893000+09:00 2019-05-15 18:56:59.893000+09:00   \n",
       "3 2019-05-13 20:30:14.172000+09:00 2019-05-13 20:59:57.172000+09:00   \n",
       "4 2019-05-12 20:33:15.816000+09:00 2019-05-12 21:01:33.816000+09:00   \n",
       "\n",
       "           diff  \n",
       "0           inf  \n",
       "1  1.928550e+05  \n",
       "2  6.529660e+07  \n",
       "3  1.642027e+08  \n",
       "4  8.452036e+07  "
      ]
     },
     "execution_count": 13,
     "metadata": {},
     "output_type": "execute_result"
    }
   ],
   "source": [
    "full_diff = np.append([float('Inf')], diff)\n",
    "full_diff\n",
    "match_df['diff'] = full_diff\n",
    "match_df.head()"
   ]
  },
  {
   "cell_type": "code",
   "execution_count": 29,
   "metadata": {},
   "outputs": [
    {
     "data": {
      "text/html": [
       "<div>\n",
       "<style scoped>\n",
       "    .dataframe tbody tr th:only-of-type {\n",
       "        vertical-align: middle;\n",
       "    }\n",
       "\n",
       "    .dataframe tbody tr th {\n",
       "        vertical-align: top;\n",
       "    }\n",
       "\n",
       "    .dataframe thead th {\n",
       "        text-align: right;\n",
       "    }\n",
       "</style>\n",
       "<table border=\"1\" class=\"dataframe\">\n",
       "  <thead>\n",
       "    <tr style=\"text-align: right;\">\n",
       "      <th></th>\n",
       "      <th>creation</th>\n",
       "      <th>duration</th>\n",
       "      <th>ended</th>\n",
       "      <th>creation_dt</th>\n",
       "      <th>ended_dt</th>\n",
       "      <th>diff</th>\n",
       "    </tr>\n",
       "    <tr>\n",
       "      <th>matchId</th>\n",
       "      <th></th>\n",
       "      <th></th>\n",
       "      <th></th>\n",
       "      <th></th>\n",
       "      <th></th>\n",
       "      <th></th>\n",
       "    </tr>\n",
       "  </thead>\n",
       "  <tbody>\n",
       "    <tr>\n",
       "      <th>3663346965</th>\n",
       "      <td>1557981210348</td>\n",
       "      <td>1285</td>\n",
       "      <td>1557982495348</td>\n",
       "      <td>2019-05-16 13:33:30.348000+09:00</td>\n",
       "      <td>2019-05-16 13:54:55.348000+09:00</td>\n",
       "      <td>inf</td>\n",
       "    </tr>\n",
       "    <tr>\n",
       "      <th>3663315079</th>\n",
       "      <td>1557979516493</td>\n",
       "      <td>1501</td>\n",
       "      <td>1557981017493</td>\n",
       "      <td>2019-05-16 13:05:16.493000+09:00</td>\n",
       "      <td>2019-05-16 13:30:17.493000+09:00</td>\n",
       "      <td>1.928550e+05</td>\n",
       "    </tr>\n",
       "    <tr>\n",
       "      <th>3662344066</th>\n",
       "      <td>1557912999893</td>\n",
       "      <td>1220</td>\n",
       "      <td>1557914219893</td>\n",
       "      <td>2019-05-15 18:36:39.893000+09:00</td>\n",
       "      <td>2019-05-15 18:56:59.893000+09:00</td>\n",
       "      <td>6.529660e+07</td>\n",
       "    </tr>\n",
       "    <tr>\n",
       "      <th>3659959097</th>\n",
       "      <td>1557747014172</td>\n",
       "      <td>1783</td>\n",
       "      <td>1557748797172</td>\n",
       "      <td>2019-05-13 20:30:14.172000+09:00</td>\n",
       "      <td>2019-05-13 20:59:57.172000+09:00</td>\n",
       "      <td>1.642027e+08</td>\n",
       "    </tr>\n",
       "    <tr>\n",
       "      <th>3658808527</th>\n",
       "      <td>1557660795816</td>\n",
       "      <td>1698</td>\n",
       "      <td>1557662493816</td>\n",
       "      <td>2019-05-12 20:33:15.816000+09:00</td>\n",
       "      <td>2019-05-12 21:01:33.816000+09:00</td>\n",
       "      <td>8.452036e+07</td>\n",
       "    </tr>\n",
       "  </tbody>\n",
       "</table>\n",
       "</div>"
      ],
      "text/plain": [
       "                 creation  duration          ended  \\\n",
       "matchId                                              \n",
       "3663346965  1557981210348      1285  1557982495348   \n",
       "3663315079  1557979516493      1501  1557981017493   \n",
       "3662344066  1557912999893      1220  1557914219893   \n",
       "3659959097  1557747014172      1783  1557748797172   \n",
       "3658808527  1557660795816      1698  1557662493816   \n",
       "\n",
       "                                creation_dt                         ended_dt  \\\n",
       "matchId                                                                        \n",
       "3663346965 2019-05-16 13:33:30.348000+09:00 2019-05-16 13:54:55.348000+09:00   \n",
       "3663315079 2019-05-16 13:05:16.493000+09:00 2019-05-16 13:30:17.493000+09:00   \n",
       "3662344066 2019-05-15 18:36:39.893000+09:00 2019-05-15 18:56:59.893000+09:00   \n",
       "3659959097 2019-05-13 20:30:14.172000+09:00 2019-05-13 20:59:57.172000+09:00   \n",
       "3658808527 2019-05-12 20:33:15.816000+09:00 2019-05-12 21:01:33.816000+09:00   \n",
       "\n",
       "                    diff  \n",
       "matchId                   \n",
       "3663346965           inf  \n",
       "3663315079  1.928550e+05  \n",
       "3662344066  6.529660e+07  \n",
       "3659959097  1.642027e+08  \n",
       "3658808527  8.452036e+07  "
      ]
     },
     "execution_count": 29,
     "metadata": {},
     "output_type": "execute_result"
    }
   ],
   "source": [
    "# match_df.set_index('matchId', inplace=True)\n",
    "match_df.head()"
   ]
  },
  {
   "cell_type": "code",
   "execution_count": 33,
   "metadata": {},
   "outputs": [],
   "source": [
    "# contruct sequence data\n",
    "seqs = []\n",
    "\n",
    "for index, row in match_df.iterrows():\n",
    "    if row['diff'] > 600000: # diff with previous game bigger than 10 minutes\n",
    "        seqs.append([index]) # start a new sequence(nested list) in seqs\n",
    "    else: # diff with previous game smaller than 10 minutes\n",
    "        seqs[-1].append(index) # add the match to an existing sequence"
   ]
  },
  {
   "cell_type": "code",
   "execution_count": 36,
   "metadata": {},
   "outputs": [
    {
     "data": {
      "text/html": [
       "<div>\n",
       "<style scoped>\n",
       "    .dataframe tbody tr th:only-of-type {\n",
       "        vertical-align: middle;\n",
       "    }\n",
       "\n",
       "    .dataframe tbody tr th {\n",
       "        vertical-align: top;\n",
       "    }\n",
       "\n",
       "    .dataframe thead th {\n",
       "        text-align: right;\n",
       "    }\n",
       "</style>\n",
       "<table border=\"1\" class=\"dataframe\">\n",
       "  <thead>\n",
       "    <tr style=\"text-align: right;\">\n",
       "      <th></th>\n",
       "      <th>matchIds</th>\n",
       "      <th>matchNum</th>\n",
       "      <th>start_dt</th>\n",
       "      <th>end_dt</th>\n",
       "    </tr>\n",
       "  </thead>\n",
       "  <tbody>\n",
       "    <tr>\n",
       "      <th>0</th>\n",
       "      <td>[3663346965, 3663315079]</td>\n",
       "      <td>2</td>\n",
       "      <td>2019-05-16 13:05:16.493000+09:00</td>\n",
       "      <td>2019-05-16 13:54:55.348000+09:00</td>\n",
       "    </tr>\n",
       "    <tr>\n",
       "      <th>1</th>\n",
       "      <td>[3662344066]</td>\n",
       "      <td>1</td>\n",
       "      <td>2019-05-15 18:36:39.893000+09:00</td>\n",
       "      <td>2019-05-15 18:56:59.893000+09:00</td>\n",
       "    </tr>\n",
       "    <tr>\n",
       "      <th>2</th>\n",
       "      <td>[3659959097]</td>\n",
       "      <td>1</td>\n",
       "      <td>2019-05-13 20:30:14.172000+09:00</td>\n",
       "      <td>2019-05-13 20:59:57.172000+09:00</td>\n",
       "    </tr>\n",
       "    <tr>\n",
       "      <th>3</th>\n",
       "      <td>[3658808527, 3658851282, 3658735829, 3658669989]</td>\n",
       "      <td>4</td>\n",
       "      <td>2019-05-12 19:00:04.238000+09:00</td>\n",
       "      <td>2019-05-12 21:01:33.816000+09:00</td>\n",
       "    </tr>\n",
       "    <tr>\n",
       "      <th>4</th>\n",
       "      <td>[3655968230]</td>\n",
       "      <td>1</td>\n",
       "      <td>2019-05-11 11:06:56.795000+09:00</td>\n",
       "      <td>2019-05-11 11:41:00.795000+09:00</td>\n",
       "    </tr>\n",
       "  </tbody>\n",
       "</table>\n",
       "</div>"
      ],
      "text/plain": [
       "                                           matchIds  matchNum  \\\n",
       "0                          [3663346965, 3663315079]         2   \n",
       "1                                      [3662344066]         1   \n",
       "2                                      [3659959097]         1   \n",
       "3  [3658808527, 3658851282, 3658735829, 3658669989]         4   \n",
       "4                                      [3655968230]         1   \n",
       "\n",
       "                          start_dt                           end_dt  \n",
       "0 2019-05-16 13:05:16.493000+09:00 2019-05-16 13:54:55.348000+09:00  \n",
       "1 2019-05-15 18:36:39.893000+09:00 2019-05-15 18:56:59.893000+09:00  \n",
       "2 2019-05-13 20:30:14.172000+09:00 2019-05-13 20:59:57.172000+09:00  \n",
       "3 2019-05-12 19:00:04.238000+09:00 2019-05-12 21:01:33.816000+09:00  \n",
       "4 2019-05-11 11:06:56.795000+09:00 2019-05-11 11:41:00.795000+09:00  "
      ]
     },
     "execution_count": 36,
     "metadata": {},
     "output_type": "execute_result"
    }
   ],
   "source": [
    "seq_df = pd.DataFrame()\n",
    "\n",
    "# list of ids of matches\n",
    "seq_df['matchIds'] = seqs\n",
    "# how many matches in a row\n",
    "seq_df['matchNum'] = [len(seq) for seq in seqs]\n",
    "# start_dt\n",
    "seq_df['start_dt'] = [match_df.loc[seq[-1]]['creation_dt'] for seq in seqs]\n",
    "# end_dt\n",
    "seq_df['end_dt'] = [match_df.loc[seq[0]]['ended_dt'] for seq in seqs]\n",
    "\n",
    "seq_df.head()"
   ]
  },
  {
   "cell_type": "markdown",
   "metadata": {},
   "source": [
    "## Insights on Play Time"
   ]
  },
  {
   "cell_type": "code",
   "execution_count": 52,
   "metadata": {},
   "outputs": [
    {
     "data": {
      "image/png": "[encoded data removed]",
      "text/plain": [
       "<Figure size 432x288 with 1 Axes>"
      ]
     },
     "metadata": {
      "needs_background": "light"
     },
     "output_type": "display_data"
    }
   ],
   "source": [
    "# 한 번 켰을 때 몇 판이나 연속으로 하는지\n",
    "hist = seq_df['matchNum'].hist()"
   ]
  },
  {
   "cell_type": "code",
   "execution_count": null,
   "metadata": {},
   "outputs": [],
   "source": [
    "# 접속 시간대 분포\n",
    "# 접속 시간대 게임 판 수 가중 후 분포\n",
    "# 간단히 한 판 하는 시간대 vs 여러 판 하는 시간대"
   ]
  },
  {
   "cell_type": "code",
   "execution_count": null,
   "metadata": {},
   "outputs": [],
   "source": [
    "`"
   ]
  }
 ],
 "metadata": {
  "kernelspec": {
   "display_name": "Python 3",
   "language": "python",
   "name": "python3"
  },
  "language_info": {
   "codemirror_mode": {
    "name": "ipython",
    "version": 3
   },
   "file_extension": ".py",
   "mimetype": "text/x-python",
   "name": "python",
   "nbconvert_exporter": "python",
   "pygments_lexer": "ipython3",
   "version": "3.6.5"
  }
 },
 "nbformat": 4,
 "nbformat_minor": 2
}
