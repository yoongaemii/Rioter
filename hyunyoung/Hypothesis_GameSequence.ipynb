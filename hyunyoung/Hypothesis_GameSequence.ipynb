{
 "cells": [
  {
   "cell_type": "code",
   "execution_count": 1,
   "metadata": {},
   "outputs": [],
   "source": [
    "import config\n",
    "from RiotAPI import *\n",
    "from RiotRequest import RiotRequest\n",
    "from RiotUtil import convert_timestamp\n",
    "\n",
    "import requests\n",
    "import pandas as pd\n",
    "import numpy as np\n",
    "\n",
    "import matplotlib.pyplot as plt\n",
    "import seaborn as sns"
   ]
  },
  {
   "cell_type": "code",
   "execution_count": 2,
   "metadata": {},
   "outputs": [],
   "source": [
    "# initialize\n",
    "api_key = config.api_key\n",
    "summoner_name = \"한양대판팡학파\"\n",
    "account_id = get_account_id(summoner_name)"
   ]
  },
  {
   "cell_type": "markdown",
   "metadata": {},
   "source": [
    "## Match Time History"
   ]
  },
  {
   "cell_type": "code",
   "execution_count": 3,
   "metadata": {
    "scrolled": true
   },
   "outputs": [],
   "source": [
    "history = [match['gameId'] for match in get_this_season_match_history(account_id)]"
   ]
  },
  {
   "cell_type": "code",
   "execution_count": 4,
   "metadata": {},
   "outputs": [
    {
     "data": {
      "text/plain": [
       "334"
      ]
     },
     "execution_count": 4,
     "metadata": {},
     "output_type": "execute_result"
    }
   ],
   "source": [
    "len(history)"
   ]
  },
  {
   "cell_type": "code",
   "execution_count": 5,
   "metadata": {},
   "outputs": [],
   "source": [
    "# get game detail에서 gameCreation, gameDuration, win/lose data 불러오기\n",
    "# 이걸 굳이 함수로 작성할 필요가 있나?\n",
    "def get_timeinfo(accountId, MatchDto):\n",
    "    return [MatchDto['gameCreation'], MatchDto['gameDuration'], win_match(account_id, MatchDto)]\n",
    " \n",
    "def win_match(accountId, MatchDto):\n",
    "    '''accountId가 matchId에서 이겼으면 True, 졌으면 False를 반환.내부에서 get_game_detail 리퀘스트를 보낸다 '''\n",
    "    \n",
    "    detail = MatchDto\n",
    "    \n",
    "    # get the participant Id of the user in the specific match\n",
    "    for p in detail['participantIdentities']:\n",
    "        if p['player']['accountId'] == accountId:\n",
    "            participantId = p['participantId']\n",
    "            break\n",
    "            \n",
    "    # team 100의 결과('Fail' or 'Win')\n",
    "    team100 = detail['teams'][0]['win'] \n",
    "    \n",
    "    # participant belongs to team 100\n",
    "    if participantId <= 5:    \n",
    "        return team100 == 'Win' \n",
    "    \n",
    "    # participant belongs to team 200\n",
    "    else:            \n",
    "        return team100 == 'Fail'"
   ]
  },
  {
   "cell_type": "code",
   "execution_count": 6,
   "metadata": {},
   "outputs": [
    {
     "name": "stdout",
     "output_type": "stream",
     "text": [
      "Unhandled Error 503 : https://kr.api.riotgames.com/lol/match/v4/matches/3676567045?api_key=RGAPI-5d4d9788-7f08-485b-86de-c8528dc9baac\n",
      "Exceeded Rate Limiting. Will retry After 59 seconds\n",
      "Exceeded Rate Limiting. Will retry After 74 seconds\n",
      "Exceeded Rate Limiting. Will retry After 70 seconds\n"
     ]
    },
    {
     "data": {
      "text/html": [
       "<div>\n",
       "<style scoped>\n",
       "    .dataframe tbody tr th:only-of-type {\n",
       "        vertical-align: middle;\n",
       "    }\n",
       "\n",
       "    .dataframe tbody tr th {\n",
       "        vertical-align: top;\n",
       "    }\n",
       "\n",
       "    .dataframe thead th {\n",
       "        text-align: right;\n",
       "    }\n",
       "</style>\n",
       "<table border=\"1\" class=\"dataframe\">\n",
       "  <thead>\n",
       "    <tr style=\"text-align: right;\">\n",
       "      <th></th>\n",
       "      <th>matchId</th>\n",
       "      <th>creation</th>\n",
       "      <th>duration</th>\n",
       "      <th>win</th>\n",
       "      <th>ended</th>\n",
       "      <th>creation_dt</th>\n",
       "      <th>ended_dt</th>\n",
       "    </tr>\n",
       "  </thead>\n",
       "  <tbody>\n",
       "    <tr>\n",
       "      <th>0</th>\n",
       "      <td>3679385560</td>\n",
       "      <td>1558928546016</td>\n",
       "      <td>1646</td>\n",
       "      <td>False</td>\n",
       "      <td>1558930192016</td>\n",
       "      <td>2019-05-27 12:42:26.016000+09:00</td>\n",
       "      <td>2019-05-27 13:09:52.016000+09:00</td>\n",
       "    </tr>\n",
       "    <tr>\n",
       "      <th>1</th>\n",
       "      <td>3679334911</td>\n",
       "      <td>1558926391375</td>\n",
       "      <td>1847</td>\n",
       "      <td>False</td>\n",
       "      <td>1558928238375</td>\n",
       "      <td>2019-05-27 12:06:31.375000+09:00</td>\n",
       "      <td>2019-05-27 12:37:18.375000+09:00</td>\n",
       "    </tr>\n",
       "    <tr>\n",
       "      <th>2</th>\n",
       "      <td>3677409689</td>\n",
       "      <td>1558805311205</td>\n",
       "      <td>2020</td>\n",
       "      <td>False</td>\n",
       "      <td>1558807331205</td>\n",
       "      <td>2019-05-26 02:28:31.205000+09:00</td>\n",
       "      <td>2019-05-26 03:02:11.205000+09:00</td>\n",
       "    </tr>\n",
       "    <tr>\n",
       "      <th>3</th>\n",
       "      <td>3677421884</td>\n",
       "      <td>1558802220068</td>\n",
       "      <td>1565</td>\n",
       "      <td>True</td>\n",
       "      <td>1558803785068</td>\n",
       "      <td>2019-05-26 01:37:00.068000+09:00</td>\n",
       "      <td>2019-05-26 02:03:05.068000+09:00</td>\n",
       "    </tr>\n",
       "    <tr>\n",
       "      <th>4</th>\n",
       "      <td>3676519145</td>\n",
       "      <td>1558771148765</td>\n",
       "      <td>1798</td>\n",
       "      <td>True</td>\n",
       "      <td>1558772946765</td>\n",
       "      <td>2019-05-25 16:59:08.765000+09:00</td>\n",
       "      <td>2019-05-25 17:29:06.765000+09:00</td>\n",
       "    </tr>\n",
       "  </tbody>\n",
       "</table>\n",
       "</div>"
      ],
      "text/plain": [
       "      matchId       creation  duration    win          ended  \\\n",
       "0  3679385560  1558928546016      1646  False  1558930192016   \n",
       "1  3679334911  1558926391375      1847  False  1558928238375   \n",
       "2  3677409689  1558805311205      2020  False  1558807331205   \n",
       "3  3677421884  1558802220068      1565   True  1558803785068   \n",
       "4  3676519145  1558771148765      1798   True  1558772946765   \n",
       "\n",
       "                       creation_dt                         ended_dt  \n",
       "0 2019-05-27 12:42:26.016000+09:00 2019-05-27 13:09:52.016000+09:00  \n",
       "1 2019-05-27 12:06:31.375000+09:00 2019-05-27 12:37:18.375000+09:00  \n",
       "2 2019-05-26 02:28:31.205000+09:00 2019-05-26 03:02:11.205000+09:00  \n",
       "3 2019-05-26 01:37:00.068000+09:00 2019-05-26 02:03:05.068000+09:00  \n",
       "4 2019-05-25 16:59:08.765000+09:00 2019-05-25 17:29:06.765000+09:00  "
      ]
     },
     "execution_count": 6,
     "metadata": {},
     "output_type": "execute_result"
    }
   ],
   "source": [
    "# list of match id --> list of [matchId, creation, duration, win]\n",
    "# ignore errors\n",
    "time_history = []\n",
    "for matchId in history:\n",
    "    try:\n",
    "        MatchDto = get_game_detail(matchId)\n",
    "        time_history.append([matchId, MatchDto['gameCreation'], MatchDto['gameDuration'], win_match(account_id, MatchDto)])\n",
    "    except:\n",
    "        pass\n",
    "        \n",
    "match_df = pd.DataFrame(time_history, columns=['matchId', 'creation', 'duration', 'win'])\n",
    "\n",
    "# add unix timestamp of the time game ended\n",
    "match_df['ended'] = match_df['creation'] + match_df['duration']*1000\n",
    "\n",
    "# add datetime columns for creation and ending time\n",
    "match_df['creation_dt'] = match_df['creation'].apply(convert_timestamp)\n",
    "match_df['ended_dt'] = match_df['ended'].apply(convert_timestamp)\n",
    "\n",
    "match_df.head()"
   ]
  },
  {
   "cell_type": "markdown",
   "metadata": {},
   "source": [
    "## Grouping Matches\n",
    "__match_df: 개별 게임 기록을 하나의 row로 하는 dataframe__\n",
    "- matchId(index)\n",
    "- creation: __long__ 게임이 시작하는 unix timestamp\n",
    "- duration: __int__ 게임 지속 시간 in seconds (*millisedconds가 아님에 유의*)\n",
    "- ended: __long__ 게임이 끝나는 unix timestamp\n",
    "- creation_dt: __datetime__ creation을 korean time으로 전환한 시각   \n",
    "- ended_dt: __datetime__ ended를 korean time으로 전환한 시각  \n",
    "- diff: __long__ 이번 판과 다음 판(시간 상으로 다음판, row 순서로는 바로 위 row)과의 시간 차이 in seconds\n",
    "\n",
    "__seq_df: 연속 게임 기록을 하나의 row로 하는 dataframe__\n",
    "- matchIds: list[matchId]\n",
    "- matchNum: __int__ 연속으로 한 판 수\n",
    "- start_dt: __datetime__ 연속 게임 기록의 시작시간\n",
    "- end_dt: __datetime__ 연속 게임 기록의 끝나는 시간"
   ]
  },
  {
   "cell_type": "markdown",
   "metadata": {},
   "source": [
    "### Calculate differences"
   ]
  },
  {
   "cell_type": "code",
   "execution_count": 7,
   "metadata": {},
   "outputs": [],
   "source": [
    "# append diff\n",
    "diff = np.array(match_df['creation'][:-1]) - np.array(match_df['ended'][1:])\n",
    "full_diff = np.append([float('Inf')], diff)\n",
    "match_df['diff'] = full_diff"
   ]
  },
  {
   "cell_type": "code",
   "execution_count": 8,
   "metadata": {},
   "outputs": [
    {
     "data": {
      "text/html": [
       "<div>\n",
       "<style scoped>\n",
       "    .dataframe tbody tr th:only-of-type {\n",
       "        vertical-align: middle;\n",
       "    }\n",
       "\n",
       "    .dataframe tbody tr th {\n",
       "        vertical-align: top;\n",
       "    }\n",
       "\n",
       "    .dataframe thead th {\n",
       "        text-align: right;\n",
       "    }\n",
       "</style>\n",
       "<table border=\"1\" class=\"dataframe\">\n",
       "  <thead>\n",
       "    <tr style=\"text-align: right;\">\n",
       "      <th></th>\n",
       "      <th>creation</th>\n",
       "      <th>duration</th>\n",
       "      <th>win</th>\n",
       "      <th>ended</th>\n",
       "      <th>creation_dt</th>\n",
       "      <th>ended_dt</th>\n",
       "      <th>diff</th>\n",
       "    </tr>\n",
       "    <tr>\n",
       "      <th>matchId</th>\n",
       "      <th></th>\n",
       "      <th></th>\n",
       "      <th></th>\n",
       "      <th></th>\n",
       "      <th></th>\n",
       "      <th></th>\n",
       "      <th></th>\n",
       "    </tr>\n",
       "  </thead>\n",
       "  <tbody>\n",
       "    <tr>\n",
       "      <th>3679385560</th>\n",
       "      <td>1558928546016</td>\n",
       "      <td>1646</td>\n",
       "      <td>False</td>\n",
       "      <td>1558930192016</td>\n",
       "      <td>2019-05-27 12:42:26.016000+09:00</td>\n",
       "      <td>2019-05-27 13:09:52.016000+09:00</td>\n",
       "      <td>inf</td>\n",
       "    </tr>\n",
       "    <tr>\n",
       "      <th>3679334911</th>\n",
       "      <td>1558926391375</td>\n",
       "      <td>1847</td>\n",
       "      <td>False</td>\n",
       "      <td>1558928238375</td>\n",
       "      <td>2019-05-27 12:06:31.375000+09:00</td>\n",
       "      <td>2019-05-27 12:37:18.375000+09:00</td>\n",
       "      <td>3.076410e+05</td>\n",
       "    </tr>\n",
       "    <tr>\n",
       "      <th>3677409689</th>\n",
       "      <td>1558805311205</td>\n",
       "      <td>2020</td>\n",
       "      <td>False</td>\n",
       "      <td>1558807331205</td>\n",
       "      <td>2019-05-26 02:28:31.205000+09:00</td>\n",
       "      <td>2019-05-26 03:02:11.205000+09:00</td>\n",
       "      <td>1.190602e+08</td>\n",
       "    </tr>\n",
       "    <tr>\n",
       "      <th>3677421884</th>\n",
       "      <td>1558802220068</td>\n",
       "      <td>1565</td>\n",
       "      <td>True</td>\n",
       "      <td>1558803785068</td>\n",
       "      <td>2019-05-26 01:37:00.068000+09:00</td>\n",
       "      <td>2019-05-26 02:03:05.068000+09:00</td>\n",
       "      <td>1.526137e+06</td>\n",
       "    </tr>\n",
       "    <tr>\n",
       "      <th>3676519145</th>\n",
       "      <td>1558771148765</td>\n",
       "      <td>1798</td>\n",
       "      <td>True</td>\n",
       "      <td>1558772946765</td>\n",
       "      <td>2019-05-25 16:59:08.765000+09:00</td>\n",
       "      <td>2019-05-25 17:29:06.765000+09:00</td>\n",
       "      <td>2.927330e+07</td>\n",
       "    </tr>\n",
       "  </tbody>\n",
       "</table>\n",
       "</div>"
      ],
      "text/plain": [
       "                 creation  duration    win          ended  \\\n",
       "matchId                                                     \n",
       "3679385560  1558928546016      1646  False  1558930192016   \n",
       "3679334911  1558926391375      1847  False  1558928238375   \n",
       "3677409689  1558805311205      2020  False  1558807331205   \n",
       "3677421884  1558802220068      1565   True  1558803785068   \n",
       "3676519145  1558771148765      1798   True  1558772946765   \n",
       "\n",
       "                                creation_dt                         ended_dt  \\\n",
       "matchId                                                                        \n",
       "3679385560 2019-05-27 12:42:26.016000+09:00 2019-05-27 13:09:52.016000+09:00   \n",
       "3679334911 2019-05-27 12:06:31.375000+09:00 2019-05-27 12:37:18.375000+09:00   \n",
       "3677409689 2019-05-26 02:28:31.205000+09:00 2019-05-26 03:02:11.205000+09:00   \n",
       "3677421884 2019-05-26 01:37:00.068000+09:00 2019-05-26 02:03:05.068000+09:00   \n",
       "3676519145 2019-05-25 16:59:08.765000+09:00 2019-05-25 17:29:06.765000+09:00   \n",
       "\n",
       "                    diff  \n",
       "matchId                   \n",
       "3679385560           inf  \n",
       "3679334911  3.076410e+05  \n",
       "3677409689  1.190602e+08  \n",
       "3677421884  1.526137e+06  \n",
       "3676519145  2.927330e+07  "
      ]
     },
     "execution_count": 8,
     "metadata": {},
     "output_type": "execute_result"
    }
   ],
   "source": [
    "match_df.set_index('matchId', inplace=True)\n",
    "match_df.head()"
   ]
  },
  {
   "cell_type": "markdown",
   "metadata": {},
   "source": [
    "### Contruct Sequence Data"
   ]
  },
  {
   "cell_type": "code",
   "execution_count": 9,
   "metadata": {},
   "outputs": [],
   "source": [
    "# contruct sequence data\n",
    "seqs = []\n",
    "\n",
    "for index, row in match_df.iterrows():\n",
    "    if row['diff'] > 600000: # diff with previous game bigger than 10 minutes\n",
    "        seqs.append([index]) # start a new sequence(nested list) in seqs\n",
    "    else: # diff with previous game smaller than 10 minutes\n",
    "        seqs[-1].append(index) # add the match to an existing sequence"
   ]
  },
  {
   "cell_type": "code",
   "execution_count": 10,
   "metadata": {},
   "outputs": [
    {
     "data": {
      "text/html": [
       "<div>\n",
       "<style scoped>\n",
       "    .dataframe tbody tr th:only-of-type {\n",
       "        vertical-align: middle;\n",
       "    }\n",
       "\n",
       "    .dataframe tbody tr th {\n",
       "        vertical-align: top;\n",
       "    }\n",
       "\n",
       "    .dataframe thead th {\n",
       "        text-align: right;\n",
       "    }\n",
       "</style>\n",
       "<table border=\"1\" class=\"dataframe\">\n",
       "  <thead>\n",
       "    <tr style=\"text-align: right;\">\n",
       "      <th></th>\n",
       "      <th>matchIds</th>\n",
       "      <th>matchNum</th>\n",
       "      <th>start_dt</th>\n",
       "      <th>end_dt</th>\n",
       "    </tr>\n",
       "  </thead>\n",
       "  <tbody>\n",
       "    <tr>\n",
       "      <th>0</th>\n",
       "      <td>[3679385560, 3679334911]</td>\n",
       "      <td>2</td>\n",
       "      <td>2019-05-27 12:06:31.375000+09:00</td>\n",
       "      <td>2019-05-27 13:09:52.016000+09:00</td>\n",
       "    </tr>\n",
       "    <tr>\n",
       "      <th>1</th>\n",
       "      <td>[3677409689]</td>\n",
       "      <td>1</td>\n",
       "      <td>2019-05-26 02:28:31.205000+09:00</td>\n",
       "      <td>2019-05-26 03:02:11.205000+09:00</td>\n",
       "    </tr>\n",
       "    <tr>\n",
       "      <th>2</th>\n",
       "      <td>[3677421884]</td>\n",
       "      <td>1</td>\n",
       "      <td>2019-05-26 01:37:00.068000+09:00</td>\n",
       "      <td>2019-05-26 02:03:05.068000+09:00</td>\n",
       "    </tr>\n",
       "    <tr>\n",
       "      <th>3</th>\n",
       "      <td>[3676519145]</td>\n",
       "      <td>1</td>\n",
       "      <td>2019-05-25 16:59:08.765000+09:00</td>\n",
       "      <td>2019-05-25 17:29:06.765000+09:00</td>\n",
       "    </tr>\n",
       "    <tr>\n",
       "      <th>4</th>\n",
       "      <td>[3674658576]</td>\n",
       "      <td>1</td>\n",
       "      <td>2019-05-24 17:51:09.191000+09:00</td>\n",
       "      <td>2019-05-24 18:25:51.191000+09:00</td>\n",
       "    </tr>\n",
       "  </tbody>\n",
       "</table>\n",
       "</div>"
      ],
      "text/plain": [
       "                   matchIds  matchNum                         start_dt  \\\n",
       "0  [3679385560, 3679334911]         2 2019-05-27 12:06:31.375000+09:00   \n",
       "1              [3677409689]         1 2019-05-26 02:28:31.205000+09:00   \n",
       "2              [3677421884]         1 2019-05-26 01:37:00.068000+09:00   \n",
       "3              [3676519145]         1 2019-05-25 16:59:08.765000+09:00   \n",
       "4              [3674658576]         1 2019-05-24 17:51:09.191000+09:00   \n",
       "\n",
       "                            end_dt  \n",
       "0 2019-05-27 13:09:52.016000+09:00  \n",
       "1 2019-05-26 03:02:11.205000+09:00  \n",
       "2 2019-05-26 02:03:05.068000+09:00  \n",
       "3 2019-05-25 17:29:06.765000+09:00  \n",
       "4 2019-05-24 18:25:51.191000+09:00  "
      ]
     },
     "execution_count": 10,
     "metadata": {},
     "output_type": "execute_result"
    }
   ],
   "source": [
    "seq_df = pd.DataFrame()\n",
    "\n",
    "# list of ids of matches\n",
    "seq_df['matchIds'] = seqs\n",
    "# how many matches in a row\n",
    "seq_df['matchNum'] = [len(seq) for seq in seqs]\n",
    "# start_dt\n",
    "seq_df['start_dt'] = [match_df.loc[seq[-1]]['creation_dt'] for seq in seqs]\n",
    "# end_dt\n",
    "seq_df['end_dt'] = [match_df.loc[seq[0]]['ended_dt'] for seq in seqs]\n",
    "\n",
    "seq_df.head()"
   ]
  },
  {
   "cell_type": "markdown",
   "metadata": {},
   "source": [
    "## 데이터 저장하기\n",
    "sqlite에서는 datetime object가 저장이 안돼서 pickle로"
   ]
  },
  {
   "cell_type": "code",
   "execution_count": null,
   "metadata": {},
   "outputs": [],
   "source": [
    "import pickle\n",
    "\n",
    "match_df.to_pickle(\"match.pickle\")\n",
    "seq_df.to_pickle(\"sequence.pickle\")\n",
    "\n",
    "with open('match.pickle', 'rb') as f:\n",
    "    data = pickle.load(f)\n",
    "data.head()"
   ]
  },
  {
   "cell_type": "markdown",
   "metadata": {},
   "source": [
    "### Match Dataframe 에 seq_idx(몇번째 판인지) 추가\n",
    "#### 참고: Dataframe의 Chained Assignment \n",
    "https://www.dataquest.io/blog/settingwithcopywarning/  \n",
    "문제 - 계속 SettingWithCopyWarning 나옴. bracket을 두 개 이상 사용해서(chaining) 접근한 subset of data는 original data가 아니라 copy 된 것. 여기에 할당을 해봤자 원데이터는 바뀌지 않는다\n",
    "해결책 - loc에 합친다  \n",
    "Chaining Assignment: `data[data.bidder == 'parakeet2004']['bidderrate'] = 100`   \n",
    "=> .loc을 활용한 single operation: `data.loc[data.bidder == 'parakeet2004', 'bidderrate'] = 100` "
   ]
  },
  {
   "cell_type": "code",
   "execution_count": 11,
   "metadata": {},
   "outputs": [],
   "source": [
    "# 몇 번째 판인지\n",
    "match_df['seq_idx'] = np.nan\n",
    "for seq in seq_df['matchIds']:\n",
    "    for idx, match in enumerate(seq):\n",
    "        match_df.loc[match, 'seq_idx'] = idx"
   ]
  },
  {
   "cell_type": "code",
   "execution_count": null,
   "metadata": {},
   "outputs": [],
   "source": [
    "match_df.head()"
   ]
  },
  {
   "cell_type": "code",
   "execution_count": 12,
   "metadata": {},
   "outputs": [],
   "source": [
    "grouped = match_df[['win', 'seq_idx']].groupby('seq_idx')\n",
    "grouped_win = (grouped.sum()/grouped.count())['win'].values"
   ]
  },
  {
   "cell_type": "code",
   "execution_count": null,
   "metadata": {
    "scrolled": false
   },
   "outputs": [],
   "source": [
    "list(range(len(grouped))) # 이거 unique x 값으로 고쳐야"
   ]
  },
  {
   "cell_type": "code",
   "execution_count": 13,
   "metadata": {},
   "outputs": [
    {
     "data": {
      "text/plain": [
       "<matplotlib.axes._subplots.AxesSubplot at 0x11e5730f0>"
      ]
     },
     "execution_count": 13,
     "metadata": {},
     "output_type": "execute_result"
    },
    {
     "data": {
      "image/png": "[encoded data removed]",
      "text/plain": [
       "<Figure size 432x288 with 1 Axes>"
      ]
     },
     "metadata": {
      "needs_background": "light"
     },
     "output_type": "display_data"
    }
   ],
   "source": [
    "import seaborn as sns\n",
    "%matplotlib inline\n",
    "\n",
    "sns.pointplot(x=list(range(len(grouped))), y=grouped_win)"
   ]
  },
  {
   "cell_type": "markdown",
   "metadata": {},
   "source": [
    "## Insights on Play Time"
   ]
  },
  {
   "cell_type": "markdown",
   "metadata": {},
   "source": [
    "### 한 번에 켰을 때 몇 판이나 연속으로 했을까  \n",
    "seaborn countplot"
   ]
  },
  {
   "cell_type": "code",
   "execution_count": 14,
   "metadata": {},
   "outputs": [
    {
     "data": {
      "text/plain": [
       "1    89\n",
       "2    38\n",
       "3    23\n",
       "4    10\n",
       "6     5\n",
       "5     3\n",
       "7     2\n",
       "Name: matchNum, dtype: int64"
      ]
     },
     "execution_count": 14,
     "metadata": {},
     "output_type": "execute_result"
    }
   ],
   "source": [
    "matchNum = seq_df['matchNum'].value_counts()\n",
    "matchNum"
   ]
  },
  {
   "cell_type": "code",
   "execution_count": 15,
   "metadata": {},
   "outputs": [
    {
     "data": {
      "text/plain": [
       "Text(0,0.5,'Count')"
      ]
     },
     "execution_count": 15,
     "metadata": {},
     "output_type": "execute_result"
    },
    {
     "data": {
      "image/png": "[encoded data removed]",
      "text/plain": [
       "<Figure size 576x432 with 1 Axes>"
      ]
     },
     "metadata": {
      "needs_background": "light"
     },
     "output_type": "display_data"
    }
   ],
   "source": [
    "plt.figure(figsize=(8,6))\n",
    "sns.countplot(x='matchNum', data=seq_df)\n",
    "plt.xlabel('Number of Matches Played in a Row')\n",
    "plt.ylabel('Count')"
   ]
  },
  {
   "cell_type": "markdown",
   "metadata": {},
   "source": [
    "### 무슨 요일, 어떤 시간대에 게임을 할까  \n",
    "seaborn heatmap: https://seaborn.pydata.org/generated/seaborn.heatmap.html"
   ]
  },
  {
   "cell_type": "code",
   "execution_count": 16,
   "metadata": {},
   "outputs": [
    {
     "data": {
      "text/html": [
       "<div>\n",
       "<style scoped>\n",
       "    .dataframe tbody tr th:only-of-type {\n",
       "        vertical-align: middle;\n",
       "    }\n",
       "\n",
       "    .dataframe tbody tr th {\n",
       "        vertical-align: top;\n",
       "    }\n",
       "\n",
       "    .dataframe thead th {\n",
       "        text-align: right;\n",
       "    }\n",
       "</style>\n",
       "<table border=\"1\" class=\"dataframe\">\n",
       "  <thead>\n",
       "    <tr style=\"text-align: right;\">\n",
       "      <th>hour</th>\n",
       "      <th>0</th>\n",
       "      <th>1</th>\n",
       "      <th>2</th>\n",
       "      <th>3</th>\n",
       "      <th>9</th>\n",
       "      <th>10</th>\n",
       "      <th>11</th>\n",
       "      <th>12</th>\n",
       "      <th>13</th>\n",
       "      <th>14</th>\n",
       "      <th>15</th>\n",
       "      <th>16</th>\n",
       "      <th>17</th>\n",
       "      <th>18</th>\n",
       "      <th>19</th>\n",
       "      <th>20</th>\n",
       "      <th>21</th>\n",
       "      <th>22</th>\n",
       "      <th>23</th>\n",
       "    </tr>\n",
       "    <tr>\n",
       "      <th>weekday</th>\n",
       "      <th></th>\n",
       "      <th></th>\n",
       "      <th></th>\n",
       "      <th></th>\n",
       "      <th></th>\n",
       "      <th></th>\n",
       "      <th></th>\n",
       "      <th></th>\n",
       "      <th></th>\n",
       "      <th></th>\n",
       "      <th></th>\n",
       "      <th></th>\n",
       "      <th></th>\n",
       "      <th></th>\n",
       "      <th></th>\n",
       "      <th></th>\n",
       "      <th></th>\n",
       "      <th></th>\n",
       "      <th></th>\n",
       "    </tr>\n",
       "  </thead>\n",
       "  <tbody>\n",
       "    <tr>\n",
       "      <th>0</th>\n",
       "      <td>10.0</td>\n",
       "      <td>3.0</td>\n",
       "      <td>0.0</td>\n",
       "      <td>0.0</td>\n",
       "      <td>0.0</td>\n",
       "      <td>0.0</td>\n",
       "      <td>0.0</td>\n",
       "      <td>2.0</td>\n",
       "      <td>1.0</td>\n",
       "      <td>0.0</td>\n",
       "      <td>0.0</td>\n",
       "      <td>0.0</td>\n",
       "      <td>1.0</td>\n",
       "      <td>1.0</td>\n",
       "      <td>2.0</td>\n",
       "      <td>3.0</td>\n",
       "      <td>4.0</td>\n",
       "      <td>9.0</td>\n",
       "      <td>5.0</td>\n",
       "    </tr>\n",
       "    <tr>\n",
       "      <th>1</th>\n",
       "      <td>5.0</td>\n",
       "      <td>2.0</td>\n",
       "      <td>0.0</td>\n",
       "      <td>0.0</td>\n",
       "      <td>0.0</td>\n",
       "      <td>0.0</td>\n",
       "      <td>0.0</td>\n",
       "      <td>0.0</td>\n",
       "      <td>0.0</td>\n",
       "      <td>0.0</td>\n",
       "      <td>0.0</td>\n",
       "      <td>0.0</td>\n",
       "      <td>0.0</td>\n",
       "      <td>1.0</td>\n",
       "      <td>2.0</td>\n",
       "      <td>4.0</td>\n",
       "      <td>6.0</td>\n",
       "      <td>5.0</td>\n",
       "      <td>7.0</td>\n",
       "    </tr>\n",
       "    <tr>\n",
       "      <th>2</th>\n",
       "      <td>4.0</td>\n",
       "      <td>3.0</td>\n",
       "      <td>2.0</td>\n",
       "      <td>2.0</td>\n",
       "      <td>0.0</td>\n",
       "      <td>0.0</td>\n",
       "      <td>0.0</td>\n",
       "      <td>1.0</td>\n",
       "      <td>2.0</td>\n",
       "      <td>0.0</td>\n",
       "      <td>1.0</td>\n",
       "      <td>0.0</td>\n",
       "      <td>0.0</td>\n",
       "      <td>0.0</td>\n",
       "      <td>0.0</td>\n",
       "      <td>3.0</td>\n",
       "      <td>2.0</td>\n",
       "      <td>9.0</td>\n",
       "      <td>13.0</td>\n",
       "    </tr>\n",
       "    <tr>\n",
       "      <th>3</th>\n",
       "      <td>10.0</td>\n",
       "      <td>9.0</td>\n",
       "      <td>7.0</td>\n",
       "      <td>1.0</td>\n",
       "      <td>1.0</td>\n",
       "      <td>0.0</td>\n",
       "      <td>2.0</td>\n",
       "      <td>4.0</td>\n",
       "      <td>5.0</td>\n",
       "      <td>5.0</td>\n",
       "      <td>3.0</td>\n",
       "      <td>0.0</td>\n",
       "      <td>0.0</td>\n",
       "      <td>1.0</td>\n",
       "      <td>2.0</td>\n",
       "      <td>6.0</td>\n",
       "      <td>3.0</td>\n",
       "      <td>7.0</td>\n",
       "      <td>12.0</td>\n",
       "    </tr>\n",
       "    <tr>\n",
       "      <th>4</th>\n",
       "      <td>15.0</td>\n",
       "      <td>7.0</td>\n",
       "      <td>4.0</td>\n",
       "      <td>1.0</td>\n",
       "      <td>0.0</td>\n",
       "      <td>0.0</td>\n",
       "      <td>2.0</td>\n",
       "      <td>2.0</td>\n",
       "      <td>1.0</td>\n",
       "      <td>1.0</td>\n",
       "      <td>4.0</td>\n",
       "      <td>3.0</td>\n",
       "      <td>2.0</td>\n",
       "      <td>0.0</td>\n",
       "      <td>2.0</td>\n",
       "      <td>3.0</td>\n",
       "      <td>3.0</td>\n",
       "      <td>4.0</td>\n",
       "      <td>6.0</td>\n",
       "    </tr>\n",
       "    <tr>\n",
       "      <th>5</th>\n",
       "      <td>7.0</td>\n",
       "      <td>2.0</td>\n",
       "      <td>2.0</td>\n",
       "      <td>1.0</td>\n",
       "      <td>0.0</td>\n",
       "      <td>0.0</td>\n",
       "      <td>0.0</td>\n",
       "      <td>0.0</td>\n",
       "      <td>0.0</td>\n",
       "      <td>3.0</td>\n",
       "      <td>3.0</td>\n",
       "      <td>2.0</td>\n",
       "      <td>1.0</td>\n",
       "      <td>1.0</td>\n",
       "      <td>3.0</td>\n",
       "      <td>3.0</td>\n",
       "      <td>2.0</td>\n",
       "      <td>2.0</td>\n",
       "      <td>4.0</td>\n",
       "    </tr>\n",
       "    <tr>\n",
       "      <th>6</th>\n",
       "      <td>3.0</td>\n",
       "      <td>2.0</td>\n",
       "      <td>3.0</td>\n",
       "      <td>1.0</td>\n",
       "      <td>0.0</td>\n",
       "      <td>1.0</td>\n",
       "      <td>0.0</td>\n",
       "      <td>2.0</td>\n",
       "      <td>2.0</td>\n",
       "      <td>2.0</td>\n",
       "      <td>1.0</td>\n",
       "      <td>0.0</td>\n",
       "      <td>1.0</td>\n",
       "      <td>0.0</td>\n",
       "      <td>2.0</td>\n",
       "      <td>3.0</td>\n",
       "      <td>2.0</td>\n",
       "      <td>5.0</td>\n",
       "      <td>14.0</td>\n",
       "    </tr>\n",
       "  </tbody>\n",
       "</table>\n",
       "</div>"
      ],
      "text/plain": [
       "hour       0    1    2    3    9    10   11   12   13   14   15   16   17  \\\n",
       "weekday                                                                     \n",
       "0        10.0  3.0  0.0  0.0  0.0  0.0  0.0  2.0  1.0  0.0  0.0  0.0  1.0   \n",
       "1         5.0  2.0  0.0  0.0  0.0  0.0  0.0  0.0  0.0  0.0  0.0  0.0  0.0   \n",
       "2         4.0  3.0  2.0  2.0  0.0  0.0  0.0  1.0  2.0  0.0  1.0  0.0  0.0   \n",
       "3        10.0  9.0  7.0  1.0  1.0  0.0  2.0  4.0  5.0  5.0  3.0  0.0  0.0   \n",
       "4        15.0  7.0  4.0  1.0  0.0  0.0  2.0  2.0  1.0  1.0  4.0  3.0  2.0   \n",
       "5         7.0  2.0  2.0  1.0  0.0  0.0  0.0  0.0  0.0  3.0  3.0  2.0  1.0   \n",
       "6         3.0  2.0  3.0  1.0  0.0  1.0  0.0  2.0  2.0  2.0  1.0  0.0  1.0   \n",
       "\n",
       "hour      18   19   20   21   22    23  \n",
       "weekday                                 \n",
       "0        1.0  2.0  3.0  4.0  9.0   5.0  \n",
       "1        1.0  2.0  4.0  6.0  5.0   7.0  \n",
       "2        0.0  0.0  3.0  2.0  9.0  13.0  \n",
       "3        1.0  2.0  6.0  3.0  7.0  12.0  \n",
       "4        0.0  2.0  3.0  3.0  4.0   6.0  \n",
       "5        1.0  3.0  3.0  2.0  2.0   4.0  \n",
       "6        0.0  2.0  3.0  2.0  5.0  14.0  "
      ]
     },
     "execution_count": 16,
     "metadata": {},
     "output_type": "execute_result"
    }
   ],
   "source": [
    "# https://seaborn.pydata.org/generated/seaborn.heatmap.html\n",
    "match_df['weekday'] = [dt.weekday() for dt in match_df['creation_dt']]\n",
    "match_df['hour'] = [dt.hour for dt in match_df['creation_dt']]\n",
    "matchTime = match_df.groupby('weekday')['hour'].value_counts().unstack().fillna(0)\n",
    "matchTime"
   ]
  },
  {
   "cell_type": "code",
   "execution_count": 17,
   "metadata": {},
   "outputs": [
    {
     "data": {
      "text/plain": [
       "246"
      ]
     },
     "execution_count": 17,
     "metadata": {},
     "output_type": "execute_result"
    }
   ],
   "source": [
    "sum(matchTime) # 왜 251개 밖에 안나오냐 어이없네"
   ]
  },
  {
   "cell_type": "code",
   "execution_count": 18,
   "metadata": {},
   "outputs": [
    {
     "data": {
      "image/png": "[encoded data removed]",
      "text/plain": [
       "<Figure size 864x432 with 2 Axes>"
      ]
     },
     "metadata": {
      "needs_background": "light"
     },
     "output_type": "display_data"
    }
   ],
   "source": [
    "# 접속 시간대 분포 --> 게임이 30분~한 시간이니까 한 시간 단위로 끊으면 안될것같아\n",
    "plt.figure(figsize=(12,6))\n",
    "ax = sns.heatmap(matchTime, linewidths=.5, cmap=\"YlGnBu\", yticklabels=['Mon', 'Tue', 'Wed', 'Thu', 'Fri', 'Sat', 'Sun'])"
   ]
  },
  {
   "cell_type": "code",
   "execution_count": null,
   "metadata": {},
   "outputs": [],
   "source": [
    "# 간단히 한 판 하는 시간대 vs 여러 판 하는 시간대"
   ]
  }
 ],
 "metadata": {
  "kernelspec": {
   "display_name": "Python 3",
   "language": "python",
   "name": "python3"
  },
  "language_info": {
   "codemirror_mode": {
    "name": "ipython",
    "version": 3
   },
   "file_extension": ".py",
   "mimetype": "text/x-python",
   "name": "python",
   "nbconvert_exporter": "python",
   "pygments_lexer": "ipython3",
   "version": "3.6.5"
  }
 },
 "nbformat": 4,
 "nbformat_minor": 2
}
