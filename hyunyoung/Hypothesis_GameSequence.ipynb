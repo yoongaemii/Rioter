{
 "cells": [
  {
   "cell_type": "code",
   "execution_count": 2,
   "metadata": {},
   "outputs": [],
   "source": [
    "import config\n",
    "from RiotAPI import *\n",
    "from RiotRequest import RiotRequest\n",
    "import requests"
   ]
  },
  {
   "cell_type": "code",
   "execution_count": 3,
   "metadata": {},
   "outputs": [],
   "source": [
    "# timestamp handling functions\n",
    "from datetime import timedelta\n",
    "from datetime import datetime\n",
    "import pytz\n",
    "\n",
    "def convert_timedelta(milisecs):\n",
    "    '''\n",
    "    convert milisecond timestamp into python timedelta object\n",
    "    for sake of compatiability, convert into only minutes and seconds (without hours)\n",
    "    '''\n",
    "    minDelta = timestamp // 60000 # 60000 miliseconds == 1 minute\n",
    "    secDelta = (timestamp % 60000) // 1000 # 1000 miliseconds == 1 second\n",
    "    return timedelta(minutes = minDelta, seconds = secDelta)\n",
    "\n",
    "def convert_timestamp(timestamp):\n",
    "    '''convert unix timestamp(long) into python datetime object with Korean Timezone'''\n",
    "   \n",
    "    # dealing with miliseconds part\n",
    "    timestamp = timestamp/1000\n",
    "    # convert from utc into datetime timestamp\n",
    "    dt = datetime.utcfromtimestamp(timestamp).replace(tzinfo=pytz.utc)\n",
    "    \n",
    "    # convert into Korean timezone\n",
    "    tz = pytz.timezone(\"Asia/Seoul\")\n",
    "    dt_kr = dt.astimezone(tz)\n",
    "    \n",
    "    return dt_kr"
   ]
  },
  {
   "cell_type": "code",
   "execution_count": 4,
   "metadata": {},
   "outputs": [],
   "source": [
    "api_key = config.api_key\n",
    "game_id = 3309773060\n",
    "summoner_name = \"야너어어어엌\"\n",
    "account_id = get_account_id(summoner_name)"
   ]
  },
  {
   "cell_type": "markdown",
   "metadata": {},
   "source": [
    "## Match Time History"
   ]
  },
  {
   "cell_type": "code",
   "execution_count": 5,
   "metadata": {
    "scrolled": true
   },
   "outputs": [],
   "source": [
    "history = [match['gameId'] for match in get_match_history(account_id)]"
   ]
  },
  {
   "cell_type": "code",
   "execution_count": 6,
   "metadata": {},
   "outputs": [
    {
     "data": {
      "text/plain": [
       "568"
      ]
     },
     "execution_count": 6,
     "metadata": {},
     "output_type": "execute_result"
    }
   ],
   "source": [
    "len(history)"
   ]
  },
  {
   "cell_type": "code",
   "execution_count": 7,
   "metadata": {},
   "outputs": [
    {
     "name": "stdout",
     "output_type": "stream",
     "text": [
      "Exceeded Rate Limiting. Will retry After 79 seconds\n",
      "Exceeded Rate Limiting. Will retry After 77 seconds\n",
      "Exceeded Rate Limiting. Will retry After 79 seconds\n"
     ]
    }
   ],
   "source": [
    "# get game detail에서 gameCreation이랑 gameDuration만 불러오기\n",
    "\n",
    "# 이러면 get_game_detail을 두 번 호출함ㅜㅜ --> 너무 오래걸림\n",
    "# history = [[matchId, get_game_detail(matchId)['gameCreation'], get_game_detail(matchId)['gameDuration']] for matchId in history]\n",
    "\n",
    "def get_timeinfo(matchId):\n",
    "    detail = get_game_detail(matchId)\n",
    "    return [matchId, detail['gameCreation'], detail['gameDuration']]\n",
    "\n",
    "# temporarily recent 300 games\n",
    "time_history = [get_timeinfo(matchId) for matchId in history[:300]]\n"
   ]
  },
  {
   "cell_type": "code",
   "execution_count": 8,
   "metadata": {},
   "outputs": [],
   "source": [
    "import pandas as pd\n",
    "match_df = pd.DataFrame(time_history, columns=['matchId', 'creation', 'duration'])"
   ]
  },
  {
   "cell_type": "code",
   "execution_count": 9,
   "metadata": {},
   "outputs": [
    {
     "data": {
      "text/html": [
       "<div>\n",
       "<style scoped>\n",
       "    .dataframe tbody tr th:only-of-type {\n",
       "        vertical-align: middle;\n",
       "    }\n",
       "\n",
       "    .dataframe tbody tr th {\n",
       "        vertical-align: top;\n",
       "    }\n",
       "\n",
       "    .dataframe thead th {\n",
       "        text-align: right;\n",
       "    }\n",
       "</style>\n",
       "<table border=\"1\" class=\"dataframe\">\n",
       "  <thead>\n",
       "    <tr style=\"text-align: right;\">\n",
       "      <th></th>\n",
       "      <th>matchId</th>\n",
       "      <th>creation</th>\n",
       "      <th>duration</th>\n",
       "      <th>ended</th>\n",
       "      <th>creation_dt</th>\n",
       "      <th>ended_dt</th>\n",
       "    </tr>\n",
       "  </thead>\n",
       "  <tbody>\n",
       "    <tr>\n",
       "      <th>0</th>\n",
       "      <td>3663346965</td>\n",
       "      <td>1557981210348</td>\n",
       "      <td>1285</td>\n",
       "      <td>1557982495348</td>\n",
       "      <td>2019-05-16 13:33:30.348000+09:00</td>\n",
       "      <td>2019-05-16 13:54:55.348000+09:00</td>\n",
       "    </tr>\n",
       "    <tr>\n",
       "      <th>1</th>\n",
       "      <td>3663315079</td>\n",
       "      <td>1557979516493</td>\n",
       "      <td>1501</td>\n",
       "      <td>1557981017493</td>\n",
       "      <td>2019-05-16 13:05:16.493000+09:00</td>\n",
       "      <td>2019-05-16 13:30:17.493000+09:00</td>\n",
       "    </tr>\n",
       "    <tr>\n",
       "      <th>2</th>\n",
       "      <td>3662344066</td>\n",
       "      <td>1557912999893</td>\n",
       "      <td>1220</td>\n",
       "      <td>1557914219893</td>\n",
       "      <td>2019-05-15 18:36:39.893000+09:00</td>\n",
       "      <td>2019-05-15 18:56:59.893000+09:00</td>\n",
       "    </tr>\n",
       "    <tr>\n",
       "      <th>3</th>\n",
       "      <td>3659959097</td>\n",
       "      <td>1557747014172</td>\n",
       "      <td>1783</td>\n",
       "      <td>1557748797172</td>\n",
       "      <td>2019-05-13 20:30:14.172000+09:00</td>\n",
       "      <td>2019-05-13 20:59:57.172000+09:00</td>\n",
       "    </tr>\n",
       "    <tr>\n",
       "      <th>4</th>\n",
       "      <td>3658808527</td>\n",
       "      <td>1557660795816</td>\n",
       "      <td>1698</td>\n",
       "      <td>1557662493816</td>\n",
       "      <td>2019-05-12 20:33:15.816000+09:00</td>\n",
       "      <td>2019-05-12 21:01:33.816000+09:00</td>\n",
       "    </tr>\n",
       "  </tbody>\n",
       "</table>\n",
       "</div>"
      ],
      "text/plain": [
       "      matchId       creation  duration          ended  \\\n",
       "0  3663346965  1557981210348      1285  1557982495348   \n",
       "1  3663315079  1557979516493      1501  1557981017493   \n",
       "2  3662344066  1557912999893      1220  1557914219893   \n",
       "3  3659959097  1557747014172      1783  1557748797172   \n",
       "4  3658808527  1557660795816      1698  1557662493816   \n",
       "\n",
       "                       creation_dt                         ended_dt  \n",
       "0 2019-05-16 13:33:30.348000+09:00 2019-05-16 13:54:55.348000+09:00  \n",
       "1 2019-05-16 13:05:16.493000+09:00 2019-05-16 13:30:17.493000+09:00  \n",
       "2 2019-05-15 18:36:39.893000+09:00 2019-05-15 18:56:59.893000+09:00  \n",
       "3 2019-05-13 20:30:14.172000+09:00 2019-05-13 20:59:57.172000+09:00  \n",
       "4 2019-05-12 20:33:15.816000+09:00 2019-05-12 21:01:33.816000+09:00  "
      ]
     },
     "execution_count": 9,
     "metadata": {},
     "output_type": "execute_result"
    }
   ],
   "source": [
    "# add unix timestamp of the time game ended\n",
    "match_df['ended'] = match_df['creation'] + match_df['duration']*1000\n",
    "\n",
    "# add datetime columns for creation and ending time\n",
    "match_df['creation_dt'] = match_df['creation'].apply(convert_timestamp)\n",
    "match_df['ended_dt'] = match_df['ended'].apply(convert_timestamp)\n",
    "\n",
    "match_df.head()"
   ]
  },
  {
   "cell_type": "markdown",
   "metadata": {},
   "source": [
    "## Grouping Matches\n",
    "__match_df: 개별 게임 기록을 하나의 row로 하는 dataframe__\n",
    "- matchId(index)\n",
    "- creation: __long__ 게임이 시작하는 unix timestamp\n",
    "- duration: __int__ 게임 지속 시간 in seconds (*millisedconds가 아님에 유의*)\n",
    "- ended: __long__ 게임이 끝나는 unix timestamp\n",
    "- creation_dt: __datetime__ creation을 korean time으로 전환한 시각   \n",
    "- ended_dt: __datetime__ ended를 korean time으로 전환한 시각  \n",
    "- diff: __long__ 이번 판과 다음 판(시간 상으로 다음판, row 순서로는 바로 위 row)과의 시간 차이 in seconds\n",
    "\n",
    "__seq_df: 연속 게임 기록을 하나의 row로 하는 dataframe__\n",
    "- matchIds: list[matchId]\n",
    "- matchNum: __int__ 연속으로 한 판 수\n",
    "- start_dt: __datetime__ 연속 게임 기록의 시작시간\n",
    "- end_dt: __datetime__ 연속 게임 기록의 끝나는 시간"
   ]
  },
  {
   "cell_type": "code",
   "execution_count": 11,
   "metadata": {},
   "outputs": [
    {
     "data": {
      "text/plain": [
       "299"
      ]
     },
     "execution_count": 11,
     "metadata": {},
     "output_type": "execute_result"
    }
   ],
   "source": [
    "import numpy as np\n",
    "diff = np.array(match_df['creation'][:-1]) - np.array(match_df['ended'][1:])\n",
    "len(diff)"
   ]
  },
  {
   "cell_type": "code",
   "execution_count": 12,
   "metadata": {},
   "outputs": [],
   "source": [
    "import matplotlib\n",
    "import matplotlib.pyplot as plt\n",
    "plt = plt.hist(diff)"
   ]
  },
  {
   "cell_type": "code",
   "execution_count": 13,
   "metadata": {},
   "outputs": [
    {
     "data": {
      "text/html": [
       "<div>\n",
       "<style scoped>\n",
       "    .dataframe tbody tr th:only-of-type {\n",
       "        vertical-align: middle;\n",
       "    }\n",
       "\n",
       "    .dataframe tbody tr th {\n",
       "        vertical-align: top;\n",
       "    }\n",
       "\n",
       "    .dataframe thead th {\n",
       "        text-align: right;\n",
       "    }\n",
       "</style>\n",
       "<table border=\"1\" class=\"dataframe\">\n",
       "  <thead>\n",
       "    <tr style=\"text-align: right;\">\n",
       "      <th></th>\n",
       "      <th>matchId</th>\n",
       "      <th>creation</th>\n",
       "      <th>duration</th>\n",
       "      <th>ended</th>\n",
       "      <th>creation_dt</th>\n",
       "      <th>ended_dt</th>\n",
       "      <th>diff</th>\n",
       "    </tr>\n",
       "  </thead>\n",
       "  <tbody>\n",
       "    <tr>\n",
       "      <th>0</th>\n",
       "      <td>3663346965</td>\n",
       "      <td>1557981210348</td>\n",
       "      <td>1285</td>\n",
       "      <td>1557982495348</td>\n",
       "      <td>2019-05-16 13:33:30.348000+09:00</td>\n",
       "      <td>2019-05-16 13:54:55.348000+09:00</td>\n",
       "      <td>inf</td>\n",
       "    </tr>\n",
       "    <tr>\n",
       "      <th>1</th>\n",
       "      <td>3663315079</td>\n",
       "      <td>1557979516493</td>\n",
       "      <td>1501</td>\n",
       "      <td>1557981017493</td>\n",
       "      <td>2019-05-16 13:05:16.493000+09:00</td>\n",
       "      <td>2019-05-16 13:30:17.493000+09:00</td>\n",
       "      <td>1.928550e+05</td>\n",
       "    </tr>\n",
       "    <tr>\n",
       "      <th>2</th>\n",
       "      <td>3662344066</td>\n",
       "      <td>1557912999893</td>\n",
       "      <td>1220</td>\n",
       "      <td>1557914219893</td>\n",
       "      <td>2019-05-15 18:36:39.893000+09:00</td>\n",
       "      <td>2019-05-15 18:56:59.893000+09:00</td>\n",
       "      <td>6.529660e+07</td>\n",
       "    </tr>\n",
       "    <tr>\n",
       "      <th>3</th>\n",
       "      <td>3659959097</td>\n",
       "      <td>1557747014172</td>\n",
       "      <td>1783</td>\n",
       "      <td>1557748797172</td>\n",
       "      <td>2019-05-13 20:30:14.172000+09:00</td>\n",
       "      <td>2019-05-13 20:59:57.172000+09:00</td>\n",
       "      <td>1.642027e+08</td>\n",
       "    </tr>\n",
       "    <tr>\n",
       "      <th>4</th>\n",
       "      <td>3658808527</td>\n",
       "      <td>1557660795816</td>\n",
       "      <td>1698</td>\n",
       "      <td>1557662493816</td>\n",
       "      <td>2019-05-12 20:33:15.816000+09:00</td>\n",
       "      <td>2019-05-12 21:01:33.816000+09:00</td>\n",
       "      <td>8.452036e+07</td>\n",
       "    </tr>\n",
       "  </tbody>\n",
       "</table>\n",
       "</div>"
      ],
      "text/plain": [
       "      matchId       creation  duration          ended  \\\n",
       "0  3663346965  1557981210348      1285  1557982495348   \n",
       "1  3663315079  1557979516493      1501  1557981017493   \n",
       "2  3662344066  1557912999893      1220  1557914219893   \n",
       "3  3659959097  1557747014172      1783  1557748797172   \n",
       "4  3658808527  1557660795816      1698  1557662493816   \n",
       "\n",
       "                       creation_dt                         ended_dt  \\\n",
       "0 2019-05-16 13:33:30.348000+09:00 2019-05-16 13:54:55.348000+09:00   \n",
       "1 2019-05-16 13:05:16.493000+09:00 2019-05-16 13:30:17.493000+09:00   \n",
       "2 2019-05-15 18:36:39.893000+09:00 2019-05-15 18:56:59.893000+09:00   \n",
       "3 2019-05-13 20:30:14.172000+09:00 2019-05-13 20:59:57.172000+09:00   \n",
       "4 2019-05-12 20:33:15.816000+09:00 2019-05-12 21:01:33.816000+09:00   \n",
       "\n",
       "           diff  \n",
       "0           inf  \n",
       "1  1.928550e+05  \n",
       "2  6.529660e+07  \n",
       "3  1.642027e+08  \n",
       "4  8.452036e+07  "
      ]
     },
     "execution_count": 13,
     "metadata": {},
     "output_type": "execute_result"
    }
   ],
   "source": [
    "full_diff = np.append([float('Inf')], diff)\n",
    "full_diff\n",
    "match_df['diff'] = full_diff\n",
    "match_df.head()"
   ]
  },
  {
   "cell_type": "code",
   "execution_count": 29,
   "metadata": {},
   "outputs": [
    {
     "data": {
      "text/html": [
       "<div>\n",
       "<style scoped>\n",
       "    .dataframe tbody tr th:only-of-type {\n",
       "        vertical-align: middle;\n",
       "    }\n",
       "\n",
       "    .dataframe tbody tr th {\n",
       "        vertical-align: top;\n",
       "    }\n",
       "\n",
       "    .dataframe thead th {\n",
       "        text-align: right;\n",
       "    }\n",
       "</style>\n",
       "<table border=\"1\" class=\"dataframe\">\n",
       "  <thead>\n",
       "    <tr style=\"text-align: right;\">\n",
       "      <th></th>\n",
       "      <th>creation</th>\n",
       "      <th>duration</th>\n",
       "      <th>ended</th>\n",
       "      <th>creation_dt</th>\n",
       "      <th>ended_dt</th>\n",
       "      <th>diff</th>\n",
       "    </tr>\n",
       "    <tr>\n",
       "      <th>matchId</th>\n",
       "      <th></th>\n",
       "      <th></th>\n",
       "      <th></th>\n",
       "      <th></th>\n",
       "      <th></th>\n",
       "      <th></th>\n",
       "    </tr>\n",
       "  </thead>\n",
       "  <tbody>\n",
       "    <tr>\n",
       "      <th>3663346965</th>\n",
       "      <td>1557981210348</td>\n",
       "      <td>1285</td>\n",
       "      <td>1557982495348</td>\n",
       "      <td>2019-05-16 13:33:30.348000+09:00</td>\n",
       "      <td>2019-05-16 13:54:55.348000+09:00</td>\n",
       "      <td>inf</td>\n",
       "    </tr>\n",
       "    <tr>\n",
       "      <th>3663315079</th>\n",
       "      <td>1557979516493</td>\n",
       "      <td>1501</td>\n",
       "      <td>1557981017493</td>\n",
       "      <td>2019-05-16 13:05:16.493000+09:00</td>\n",
       "      <td>2019-05-16 13:30:17.493000+09:00</td>\n",
       "      <td>1.928550e+05</td>\n",
       "    </tr>\n",
       "    <tr>\n",
       "      <th>3662344066</th>\n",
       "      <td>1557912999893</td>\n",
       "      <td>1220</td>\n",
       "      <td>1557914219893</td>\n",
       "      <td>2019-05-15 18:36:39.893000+09:00</td>\n",
       "      <td>2019-05-15 18:56:59.893000+09:00</td>\n",
       "      <td>6.529660e+07</td>\n",
       "    </tr>\n",
       "    <tr>\n",
       "      <th>3659959097</th>\n",
       "      <td>1557747014172</td>\n",
       "      <td>1783</td>\n",
       "      <td>1557748797172</td>\n",
       "      <td>2019-05-13 20:30:14.172000+09:00</td>\n",
       "      <td>2019-05-13 20:59:57.172000+09:00</td>\n",
       "      <td>1.642027e+08</td>\n",
       "    </tr>\n",
       "    <tr>\n",
       "      <th>3658808527</th>\n",
       "      <td>1557660795816</td>\n",
       "      <td>1698</td>\n",
       "      <td>1557662493816</td>\n",
       "      <td>2019-05-12 20:33:15.816000+09:00</td>\n",
       "      <td>2019-05-12 21:01:33.816000+09:00</td>\n",
       "      <td>8.452036e+07</td>\n",
       "    </tr>\n",
       "  </tbody>\n",
       "</table>\n",
       "</div>"
      ],
      "text/plain": [
       "                 creation  duration          ended  \\\n",
       "matchId                                              \n",
       "3663346965  1557981210348      1285  1557982495348   \n",
       "3663315079  1557979516493      1501  1557981017493   \n",
       "3662344066  1557912999893      1220  1557914219893   \n",
       "3659959097  1557747014172      1783  1557748797172   \n",
       "3658808527  1557660795816      1698  1557662493816   \n",
       "\n",
       "                                creation_dt                         ended_dt  \\\n",
       "matchId                                                                        \n",
       "3663346965 2019-05-16 13:33:30.348000+09:00 2019-05-16 13:54:55.348000+09:00   \n",
       "3663315079 2019-05-16 13:05:16.493000+09:00 2019-05-16 13:30:17.493000+09:00   \n",
       "3662344066 2019-05-15 18:36:39.893000+09:00 2019-05-15 18:56:59.893000+09:00   \n",
       "3659959097 2019-05-13 20:30:14.172000+09:00 2019-05-13 20:59:57.172000+09:00   \n",
       "3658808527 2019-05-12 20:33:15.816000+09:00 2019-05-12 21:01:33.816000+09:00   \n",
       "\n",
       "                    diff  \n",
       "matchId                   \n",
       "3663346965           inf  \n",
       "3663315079  1.928550e+05  \n",
       "3662344066  6.529660e+07  \n",
       "3659959097  1.642027e+08  \n",
       "3658808527  8.452036e+07  "
      ]
     },
     "execution_count": 29,
     "metadata": {},
     "output_type": "execute_result"
    }
   ],
   "source": [
    "match_df.set_index('matchId', inplace=True)\n",
    "match_df.head()"
   ]
  },
  {
   "cell_type": "code",
   "execution_count": 33,
   "metadata": {},
   "outputs": [],
   "source": [
    "# contruct sequence data\n",
    "seqs = []\n",
    "\n",
    "for index, row in match_df.iterrows():\n",
    "    if row['diff'] > 600000: # diff with previous game bigger than 10 minutes\n",
    "        seqs.append([index]) # start a new sequence(nested list) in seqs\n",
    "    else: # diff with previous game smaller than 10 minutes\n",
    "        seqs[-1].append(index) # add the match to an existing sequence"
   ]
  },
  {
   "cell_type": "code",
   "execution_count": 36,
   "metadata": {},
   "outputs": [
    {
     "data": {
      "text/html": [
       "<div>\n",
       "<style scoped>\n",
       "    .dataframe tbody tr th:only-of-type {\n",
       "        vertical-align: middle;\n",
       "    }\n",
       "\n",
       "    .dataframe tbody tr th {\n",
       "        vertical-align: top;\n",
       "    }\n",
       "\n",
       "    .dataframe thead th {\n",
       "        text-align: right;\n",
       "    }\n",
       "</style>\n",
       "<table border=\"1\" class=\"dataframe\">\n",
       "  <thead>\n",
       "    <tr style=\"text-align: right;\">\n",
       "      <th></th>\n",
       "      <th>matchIds</th>\n",
       "      <th>matchNum</th>\n",
       "      <th>start_dt</th>\n",
       "      <th>end_dt</th>\n",
       "    </tr>\n",
       "  </thead>\n",
       "  <tbody>\n",
       "    <tr>\n",
       "      <th>0</th>\n",
       "      <td>[3663346965, 3663315079]</td>\n",
       "      <td>2</td>\n",
       "      <td>2019-05-16 13:05:16.493000+09:00</td>\n",
       "      <td>2019-05-16 13:54:55.348000+09:00</td>\n",
       "    </tr>\n",
       "    <tr>\n",
       "      <th>1</th>\n",
       "      <td>[3662344066]</td>\n",
       "      <td>1</td>\n",
       "      <td>2019-05-15 18:36:39.893000+09:00</td>\n",
       "      <td>2019-05-15 18:56:59.893000+09:00</td>\n",
       "    </tr>\n",
       "    <tr>\n",
       "      <th>2</th>\n",
       "      <td>[3659959097]</td>\n",
       "      <td>1</td>\n",
       "      <td>2019-05-13 20:30:14.172000+09:00</td>\n",
       "      <td>2019-05-13 20:59:57.172000+09:00</td>\n",
       "    </tr>\n",
       "    <tr>\n",
       "      <th>3</th>\n",
       "      <td>[3658808527, 3658851282, 3658735829, 3658669989]</td>\n",
       "      <td>4</td>\n",
       "      <td>2019-05-12 19:00:04.238000+09:00</td>\n",
       "      <td>2019-05-12 21:01:33.816000+09:00</td>\n",
       "    </tr>\n",
       "    <tr>\n",
       "      <th>4</th>\n",
       "      <td>[3655968230]</td>\n",
       "      <td>1</td>\n",
       "      <td>2019-05-11 11:06:56.795000+09:00</td>\n",
       "      <td>2019-05-11 11:41:00.795000+09:00</td>\n",
       "    </tr>\n",
       "  </tbody>\n",
       "</table>\n",
       "</div>"
      ],
      "text/plain": [
       "                                           matchIds  matchNum  \\\n",
       "0                          [3663346965, 3663315079]         2   \n",
       "1                                      [3662344066]         1   \n",
       "2                                      [3659959097]         1   \n",
       "3  [3658808527, 3658851282, 3658735829, 3658669989]         4   \n",
       "4                                      [3655968230]         1   \n",
       "\n",
       "                          start_dt                           end_dt  \n",
       "0 2019-05-16 13:05:16.493000+09:00 2019-05-16 13:54:55.348000+09:00  \n",
       "1 2019-05-15 18:36:39.893000+09:00 2019-05-15 18:56:59.893000+09:00  \n",
       "2 2019-05-13 20:30:14.172000+09:00 2019-05-13 20:59:57.172000+09:00  \n",
       "3 2019-05-12 19:00:04.238000+09:00 2019-05-12 21:01:33.816000+09:00  \n",
       "4 2019-05-11 11:06:56.795000+09:00 2019-05-11 11:41:00.795000+09:00  "
      ]
     },
     "execution_count": 36,
     "metadata": {},
     "output_type": "execute_result"
    }
   ],
   "source": [
    "seq_df = pd.DataFrame()\n",
    "\n",
    "# list of ids of matches\n",
    "seq_df['matchIds'] = seqs\n",
    "# how many matches in a row\n",
    "seq_df['matchNum'] = [len(seq) for seq in seqs]\n",
    "# start_dt\n",
    "seq_df['start_dt'] = [match_df.loc[seq[-1]]['creation_dt'] for seq in seqs]\n",
    "# end_dt\n",
    "seq_df['end_dt'] = [match_df.loc[seq[0]]['ended_dt'] for seq in seqs]\n",
    "\n",
    "seq_df.head()"
   ]
  },
  {
   "cell_type": "markdown",
   "metadata": {},
   "source": [
    "## 데이터 저장하기\n",
    "sqlite에서는 datetime object가 저장이 안돼서 pickle로"
   ]
  },
  {
   "cell_type": "code",
   "execution_count": 64,
   "metadata": {
    "collapsed": true
   },
   "outputs": [
    {
     "ename": "TypeError",
     "evalue": "Cannot cast DatetimeIndex to dtype datetime64[us]",
     "output_type": "error",
     "traceback": [
      "\u001b[0;31m---------------------------------------------------------------------------\u001b[0m",
      "\u001b[0;31mTypeError\u001b[0m                                 Traceback (most recent call last)",
      "\u001b[0;32m<ipython-input-64-69554ab206b7>\u001b[0m in \u001b[0;36m<module>\u001b[0;34m\u001b[0m\n\u001b[1;32m      2\u001b[0m \u001b[0;34m\u001b[0m\u001b[0m\n\u001b[1;32m      3\u001b[0m \u001b[0mcon\u001b[0m \u001b[0;34m=\u001b[0m \u001b[0msqlite3\u001b[0m\u001b[0;34m.\u001b[0m\u001b[0mconnect\u001b[0m\u001b[0;34m(\u001b[0m\u001b[0;34m\"GameSequence.db\"\u001b[0m\u001b[0;34m)\u001b[0m\u001b[0;34m\u001b[0m\u001b[0m\n\u001b[0;32m----> 4\u001b[0;31m \u001b[0mmatch_df\u001b[0m\u001b[0;34m.\u001b[0m\u001b[0mto_sql\u001b[0m\u001b[0;34m(\u001b[0m\u001b[0;34m\"match\"\u001b[0m\u001b[0;34m,\u001b[0m \u001b[0mcon\u001b[0m\u001b[0;34m,\u001b[0m \u001b[0mchunksize\u001b[0m\u001b[0;34m=\u001b[0m\u001b[0;36m1000\u001b[0m\u001b[0;34m,\u001b[0m \u001b[0mif_exists\u001b[0m\u001b[0;34m=\u001b[0m\u001b[0;34m'replace'\u001b[0m\u001b[0;34m)\u001b[0m\u001b[0;34m\u001b[0m\u001b[0m\n\u001b[0m\u001b[1;32m      5\u001b[0m \u001b[0mseq_df\u001b[0m\u001b[0;34m.\u001b[0m\u001b[0mto_sql\u001b[0m\u001b[0;34m(\u001b[0m\u001b[0;34m\"sequence\"\u001b[0m\u001b[0;34m,\u001b[0m \u001b[0mcon\u001b[0m\u001b[0;34m,\u001b[0m \u001b[0mchunksize\u001b[0m\u001b[0;34m=\u001b[0m\u001b[0;36m1000\u001b[0m\u001b[0;34m,\u001b[0m \u001b[0mif_exists\u001b[0m\u001b[0;34m=\u001b[0m\u001b[0;34m'replace'\u001b[0m\u001b[0;34m)\u001b[0m\u001b[0;34m\u001b[0m\u001b[0m\n\u001b[1;32m      6\u001b[0m \u001b[0mcon\u001b[0m\u001b[0;34m.\u001b[0m\u001b[0mcommit\u001b[0m\u001b[0;34m(\u001b[0m\u001b[0;34m)\u001b[0m\u001b[0;34m\u001b[0m\u001b[0m\n",
      "\u001b[0;32m/usr/local/lib/python3.6/site-packages/pandas/core/generic.py\u001b[0m in \u001b[0;36mto_sql\u001b[0;34m(self, name, con, schema, if_exists, index, index_label, chunksize, dtype)\u001b[0m\n\u001b[1;32m   2128\u001b[0m         sql.to_sql(self, name, con, schema=schema, if_exists=if_exists,\n\u001b[1;32m   2129\u001b[0m                    \u001b[0mindex\u001b[0m\u001b[0;34m=\u001b[0m\u001b[0mindex\u001b[0m\u001b[0;34m,\u001b[0m \u001b[0mindex_label\u001b[0m\u001b[0;34m=\u001b[0m\u001b[0mindex_label\u001b[0m\u001b[0;34m,\u001b[0m \u001b[0mchunksize\u001b[0m\u001b[0;34m=\u001b[0m\u001b[0mchunksize\u001b[0m\u001b[0;34m,\u001b[0m\u001b[0;34m\u001b[0m\u001b[0m\n\u001b[0;32m-> 2130\u001b[0;31m                    dtype=dtype)\n\u001b[0m\u001b[1;32m   2131\u001b[0m \u001b[0;34m\u001b[0m\u001b[0m\n\u001b[1;32m   2132\u001b[0m     def to_pickle(self, path, compression='infer',\n",
      "\u001b[0;32m/usr/local/lib/python3.6/site-packages/pandas/io/sql.py\u001b[0m in \u001b[0;36mto_sql\u001b[0;34m(frame, name, con, schema, if_exists, index, index_label, chunksize, dtype)\u001b[0m\n\u001b[1;32m    448\u001b[0m     pandas_sql.to_sql(frame, name, if_exists=if_exists, index=index,\n\u001b[1;32m    449\u001b[0m                       \u001b[0mindex_label\u001b[0m\u001b[0;34m=\u001b[0m\u001b[0mindex_label\u001b[0m\u001b[0;34m,\u001b[0m \u001b[0mschema\u001b[0m\u001b[0;34m=\u001b[0m\u001b[0mschema\u001b[0m\u001b[0;34m,\u001b[0m\u001b[0;34m\u001b[0m\u001b[0m\n\u001b[0;32m--> 450\u001b[0;31m                       chunksize=chunksize, dtype=dtype)\n\u001b[0m\u001b[1;32m    451\u001b[0m \u001b[0;34m\u001b[0m\u001b[0m\n\u001b[1;32m    452\u001b[0m \u001b[0;34m\u001b[0m\u001b[0m\n",
      "\u001b[0;32m/usr/local/lib/python3.6/site-packages/pandas/io/sql.py\u001b[0m in \u001b[0;36mto_sql\u001b[0;34m(self, frame, name, if_exists, index, index_label, schema, chunksize, dtype)\u001b[0m\n\u001b[1;32m   1479\u001b[0m                             dtype=dtype)\n\u001b[1;32m   1480\u001b[0m         \u001b[0mtable\u001b[0m\u001b[0;34m.\u001b[0m\u001b[0mcreate\u001b[0m\u001b[0;34m(\u001b[0m\u001b[0;34m)\u001b[0m\u001b[0;34m\u001b[0m\u001b[0m\n\u001b[0;32m-> 1481\u001b[0;31m         \u001b[0mtable\u001b[0m\u001b[0;34m.\u001b[0m\u001b[0minsert\u001b[0m\u001b[0;34m(\u001b[0m\u001b[0mchunksize\u001b[0m\u001b[0;34m)\u001b[0m\u001b[0;34m\u001b[0m\u001b[0m\n\u001b[0m\u001b[1;32m   1482\u001b[0m \u001b[0;34m\u001b[0m\u001b[0m\n\u001b[1;32m   1483\u001b[0m     \u001b[0;32mdef\u001b[0m \u001b[0mhas_table\u001b[0m\u001b[0;34m(\u001b[0m\u001b[0mself\u001b[0m\u001b[0;34m,\u001b[0m \u001b[0mname\u001b[0m\u001b[0;34m,\u001b[0m \u001b[0mschema\u001b[0m\u001b[0;34m=\u001b[0m\u001b[0;32mNone\u001b[0m\u001b[0;34m)\u001b[0m\u001b[0;34m:\u001b[0m\u001b[0;34m\u001b[0m\u001b[0m\n",
      "\u001b[0;32m/usr/local/lib/python3.6/site-packages/pandas/io/sql.py\u001b[0m in \u001b[0;36minsert\u001b[0;34m(self, chunksize)\u001b[0m\n\u001b[1;32m    617\u001b[0m \u001b[0;34m\u001b[0m\u001b[0m\n\u001b[1;32m    618\u001b[0m     \u001b[0;32mdef\u001b[0m \u001b[0minsert\u001b[0m\u001b[0;34m(\u001b[0m\u001b[0mself\u001b[0m\u001b[0;34m,\u001b[0m \u001b[0mchunksize\u001b[0m\u001b[0;34m=\u001b[0m\u001b[0;32mNone\u001b[0m\u001b[0;34m)\u001b[0m\u001b[0;34m:\u001b[0m\u001b[0;34m\u001b[0m\u001b[0m\n\u001b[0;32m--> 619\u001b[0;31m         \u001b[0mkeys\u001b[0m\u001b[0;34m,\u001b[0m \u001b[0mdata_list\u001b[0m \u001b[0;34m=\u001b[0m \u001b[0mself\u001b[0m\u001b[0;34m.\u001b[0m\u001b[0minsert_data\u001b[0m\u001b[0;34m(\u001b[0m\u001b[0;34m)\u001b[0m\u001b[0;34m\u001b[0m\u001b[0m\n\u001b[0m\u001b[1;32m    620\u001b[0m \u001b[0;34m\u001b[0m\u001b[0m\n\u001b[1;32m    621\u001b[0m         \u001b[0mnrows\u001b[0m \u001b[0;34m=\u001b[0m \u001b[0mlen\u001b[0m\u001b[0;34m(\u001b[0m\u001b[0mself\u001b[0m\u001b[0;34m.\u001b[0m\u001b[0mframe\u001b[0m\u001b[0;34m)\u001b[0m\u001b[0;34m\u001b[0m\u001b[0m\n",
      "\u001b[0;32m/usr/local/lib/python3.6/site-packages/pandas/io/sql.py\u001b[0m in \u001b[0;36minsert_data\u001b[0;34m(self)\u001b[0m\n\u001b[1;32m    598\u001b[0m                 \u001b[0;31m# convert to microsecond resolution so this yields\u001b[0m\u001b[0;34m\u001b[0m\u001b[0;34m\u001b[0m\u001b[0m\n\u001b[1;32m    599\u001b[0m                 \u001b[0;31m# datetime.datetime\u001b[0m\u001b[0;34m\u001b[0m\u001b[0;34m\u001b[0m\u001b[0m\n\u001b[0;32m--> 600\u001b[0;31m                 \u001b[0md\u001b[0m \u001b[0;34m=\u001b[0m \u001b[0mb\u001b[0m\u001b[0;34m.\u001b[0m\u001b[0mvalues\u001b[0m\u001b[0;34m.\u001b[0m\u001b[0mastype\u001b[0m\u001b[0;34m(\u001b[0m\u001b[0;34m'M8[us]'\u001b[0m\u001b[0;34m)\u001b[0m\u001b[0;34m.\u001b[0m\u001b[0mastype\u001b[0m\u001b[0;34m(\u001b[0m\u001b[0mobject\u001b[0m\u001b[0;34m)\u001b[0m\u001b[0;34m\u001b[0m\u001b[0m\n\u001b[0m\u001b[1;32m    601\u001b[0m             \u001b[0;32melse\u001b[0m\u001b[0;34m:\u001b[0m\u001b[0;34m\u001b[0m\u001b[0m\n\u001b[1;32m    602\u001b[0m                 \u001b[0md\u001b[0m \u001b[0;34m=\u001b[0m \u001b[0mnp\u001b[0m\u001b[0;34m.\u001b[0m\u001b[0marray\u001b[0m\u001b[0;34m(\u001b[0m\u001b[0mb\u001b[0m\u001b[0;34m.\u001b[0m\u001b[0mget_values\u001b[0m\u001b[0;34m(\u001b[0m\u001b[0;34m)\u001b[0m\u001b[0;34m,\u001b[0m \u001b[0mdtype\u001b[0m\u001b[0;34m=\u001b[0m\u001b[0mobject\u001b[0m\u001b[0;34m)\u001b[0m\u001b[0;34m\u001b[0m\u001b[0m\n",
      "\u001b[0;32m/usr/local/lib/python3.6/site-packages/pandas/core/indexes/datetimes.py\u001b[0m in \u001b[0;36mastype\u001b[0;34m(self, dtype, copy)\u001b[0m\n\u001b[1;32m    986\u001b[0m         \u001b[0;32melif\u001b[0m \u001b[0mis_period_dtype\u001b[0m\u001b[0;34m(\u001b[0m\u001b[0mdtype\u001b[0m\u001b[0;34m)\u001b[0m\u001b[0;34m:\u001b[0m\u001b[0;34m\u001b[0m\u001b[0m\n\u001b[1;32m    987\u001b[0m             \u001b[0;32mreturn\u001b[0m \u001b[0mself\u001b[0m\u001b[0;34m.\u001b[0m\u001b[0mto_period\u001b[0m\u001b[0;34m(\u001b[0m\u001b[0mfreq\u001b[0m\u001b[0;34m=\u001b[0m\u001b[0mdtype\u001b[0m\u001b[0;34m.\u001b[0m\u001b[0mfreq\u001b[0m\u001b[0;34m)\u001b[0m\u001b[0;34m\u001b[0m\u001b[0m\n\u001b[0;32m--> 988\u001b[0;31m         \u001b[0;32mreturn\u001b[0m \u001b[0msuper\u001b[0m\u001b[0;34m(\u001b[0m\u001b[0mDatetimeIndex\u001b[0m\u001b[0;34m,\u001b[0m \u001b[0mself\u001b[0m\u001b[0;34m)\u001b[0m\u001b[0;34m.\u001b[0m\u001b[0mastype\u001b[0m\u001b[0;34m(\u001b[0m\u001b[0mdtype\u001b[0m\u001b[0;34m,\u001b[0m \u001b[0mcopy\u001b[0m\u001b[0;34m=\u001b[0m\u001b[0mcopy\u001b[0m\u001b[0;34m)\u001b[0m\u001b[0;34m\u001b[0m\u001b[0m\n\u001b[0m\u001b[1;32m    989\u001b[0m \u001b[0;34m\u001b[0m\u001b[0m\n\u001b[1;32m    990\u001b[0m     \u001b[0;32mdef\u001b[0m \u001b[0m_get_time_micros\u001b[0m\u001b[0;34m(\u001b[0m\u001b[0mself\u001b[0m\u001b[0;34m)\u001b[0m\u001b[0;34m:\u001b[0m\u001b[0;34m\u001b[0m\u001b[0m\n",
      "\u001b[0;32m/usr/local/lib/python3.6/site-packages/pandas/core/indexes/datetimelike.py\u001b[0m in \u001b[0;36mastype\u001b[0;34m(self, dtype, copy)\u001b[0m\n\u001b[1;32m   1141\u001b[0m             \u001b[0;31m# and conversions for any datetimelike to float\u001b[0m\u001b[0;34m\u001b[0m\u001b[0;34m\u001b[0m\u001b[0m\n\u001b[1;32m   1142\u001b[0m             \u001b[0mmsg\u001b[0m \u001b[0;34m=\u001b[0m \u001b[0;34m'Cannot cast {name} to dtype {dtype}'\u001b[0m\u001b[0;34m\u001b[0m\u001b[0m\n\u001b[0;32m-> 1143\u001b[0;31m             \u001b[0;32mraise\u001b[0m \u001b[0mTypeError\u001b[0m\u001b[0;34m(\u001b[0m\u001b[0mmsg\u001b[0m\u001b[0;34m.\u001b[0m\u001b[0mformat\u001b[0m\u001b[0;34m(\u001b[0m\u001b[0mname\u001b[0m\u001b[0;34m=\u001b[0m\u001b[0mtype\u001b[0m\u001b[0;34m(\u001b[0m\u001b[0mself\u001b[0m\u001b[0;34m)\u001b[0m\u001b[0;34m.\u001b[0m\u001b[0m__name__\u001b[0m\u001b[0;34m,\u001b[0m \u001b[0mdtype\u001b[0m\u001b[0;34m=\u001b[0m\u001b[0mdtype\u001b[0m\u001b[0;34m)\u001b[0m\u001b[0;34m)\u001b[0m\u001b[0;34m\u001b[0m\u001b[0m\n\u001b[0m\u001b[1;32m   1144\u001b[0m         \u001b[0;32mreturn\u001b[0m \u001b[0msuper\u001b[0m\u001b[0;34m(\u001b[0m\u001b[0mDatetimeIndexOpsMixin\u001b[0m\u001b[0;34m,\u001b[0m \u001b[0mself\u001b[0m\u001b[0;34m)\u001b[0m\u001b[0;34m.\u001b[0m\u001b[0mastype\u001b[0m\u001b[0;34m(\u001b[0m\u001b[0mdtype\u001b[0m\u001b[0;34m,\u001b[0m \u001b[0mcopy\u001b[0m\u001b[0;34m=\u001b[0m\u001b[0mcopy\u001b[0m\u001b[0;34m)\u001b[0m\u001b[0;34m\u001b[0m\u001b[0m\n\u001b[1;32m   1145\u001b[0m \u001b[0;34m\u001b[0m\u001b[0m\n",
      "\u001b[0;31mTypeError\u001b[0m: Cannot cast DatetimeIndex to dtype datetime64[us]"
     ]
    }
   ],
   "source": [
    "# import sqlite3 \n",
    "\n",
    "# con = sqlite3.connect(\"GameSequence.db\")\n",
    "# match_df.to_sql(\"match\", con, chunksize=1000, if_exists='replace')\n",
    "# seq_df.to_sql(\"sequence\", con, chunksize=1000, if_exists='replace')\n",
    "# con.commit()\n",
    "# con.close()"
   ]
  },
  {
   "cell_type": "code",
   "execution_count": 73,
   "metadata": {},
   "outputs": [
    {
     "data": {
      "text/html": [
       "<div>\n",
       "<style scoped>\n",
       "    .dataframe tbody tr th:only-of-type {\n",
       "        vertical-align: middle;\n",
       "    }\n",
       "\n",
       "    .dataframe tbody tr th {\n",
       "        vertical-align: top;\n",
       "    }\n",
       "\n",
       "    .dataframe thead th {\n",
       "        text-align: right;\n",
       "    }\n",
       "</style>\n",
       "<table border=\"1\" class=\"dataframe\">\n",
       "  <thead>\n",
       "    <tr style=\"text-align: right;\">\n",
       "      <th></th>\n",
       "      <th>creation</th>\n",
       "      <th>duration</th>\n",
       "      <th>ended</th>\n",
       "      <th>creation_dt</th>\n",
       "      <th>ended_dt</th>\n",
       "      <th>diff</th>\n",
       "      <th>win</th>\n",
       "    </tr>\n",
       "    <tr>\n",
       "      <th>matchId</th>\n",
       "      <th></th>\n",
       "      <th></th>\n",
       "      <th></th>\n",
       "      <th></th>\n",
       "      <th></th>\n",
       "      <th></th>\n",
       "      <th></th>\n",
       "    </tr>\n",
       "  </thead>\n",
       "  <tbody>\n",
       "    <tr>\n",
       "      <th>3663346965</th>\n",
       "      <td>1557981210348</td>\n",
       "      <td>1285</td>\n",
       "      <td>1557982495348</td>\n",
       "      <td>2019-05-16 13:33:30.348000+09:00</td>\n",
       "      <td>2019-05-16 13:54:55.348000+09:00</td>\n",
       "      <td>inf</td>\n",
       "      <td>True</td>\n",
       "    </tr>\n",
       "    <tr>\n",
       "      <th>3663315079</th>\n",
       "      <td>1557979516493</td>\n",
       "      <td>1501</td>\n",
       "      <td>1557981017493</td>\n",
       "      <td>2019-05-16 13:05:16.493000+09:00</td>\n",
       "      <td>2019-05-16 13:30:17.493000+09:00</td>\n",
       "      <td>1.928550e+05</td>\n",
       "      <td>False</td>\n",
       "    </tr>\n",
       "    <tr>\n",
       "      <th>3662344066</th>\n",
       "      <td>1557912999893</td>\n",
       "      <td>1220</td>\n",
       "      <td>1557914219893</td>\n",
       "      <td>2019-05-15 18:36:39.893000+09:00</td>\n",
       "      <td>2019-05-15 18:56:59.893000+09:00</td>\n",
       "      <td>6.529660e+07</td>\n",
       "      <td>True</td>\n",
       "    </tr>\n",
       "    <tr>\n",
       "      <th>3659959097</th>\n",
       "      <td>1557747014172</td>\n",
       "      <td>1783</td>\n",
       "      <td>1557748797172</td>\n",
       "      <td>2019-05-13 20:30:14.172000+09:00</td>\n",
       "      <td>2019-05-13 20:59:57.172000+09:00</td>\n",
       "      <td>1.642027e+08</td>\n",
       "      <td>False</td>\n",
       "    </tr>\n",
       "    <tr>\n",
       "      <th>3658808527</th>\n",
       "      <td>1557660795816</td>\n",
       "      <td>1698</td>\n",
       "      <td>1557662493816</td>\n",
       "      <td>2019-05-12 20:33:15.816000+09:00</td>\n",
       "      <td>2019-05-12 21:01:33.816000+09:00</td>\n",
       "      <td>8.452036e+07</td>\n",
       "      <td>False</td>\n",
       "    </tr>\n",
       "  </tbody>\n",
       "</table>\n",
       "</div>"
      ],
      "text/plain": [
       "                 creation  duration          ended  \\\n",
       "matchId                                              \n",
       "3663346965  1557981210348      1285  1557982495348   \n",
       "3663315079  1557979516493      1501  1557981017493   \n",
       "3662344066  1557912999893      1220  1557914219893   \n",
       "3659959097  1557747014172      1783  1557748797172   \n",
       "3658808527  1557660795816      1698  1557662493816   \n",
       "\n",
       "                                creation_dt                         ended_dt  \\\n",
       "matchId                                                                        \n",
       "3663346965 2019-05-16 13:33:30.348000+09:00 2019-05-16 13:54:55.348000+09:00   \n",
       "3663315079 2019-05-16 13:05:16.493000+09:00 2019-05-16 13:30:17.493000+09:00   \n",
       "3662344066 2019-05-15 18:36:39.893000+09:00 2019-05-15 18:56:59.893000+09:00   \n",
       "3659959097 2019-05-13 20:30:14.172000+09:00 2019-05-13 20:59:57.172000+09:00   \n",
       "3658808527 2019-05-12 20:33:15.816000+09:00 2019-05-12 21:01:33.816000+09:00   \n",
       "\n",
       "                    diff    win  \n",
       "matchId                          \n",
       "3663346965           inf   True  \n",
       "3663315079  1.928550e+05  False  \n",
       "3662344066  6.529660e+07   True  \n",
       "3659959097  1.642027e+08  False  \n",
       "3658808527  8.452036e+07  False  "
      ]
     },
     "execution_count": 73,
     "metadata": {},
     "output_type": "execute_result"
    }
   ],
   "source": [
    "import pickle\n",
    "\n",
    "match_df.to_pickle(\"match.pickle\")\n",
    "seq_df.to_pickle(\"sequence.pickle\")\n",
    "\n",
    "with open('match.pickle', 'rb') as f:\n",
    "    data = pickle.load(f)\n",
    "data.head()"
   ]
  },
  {
   "cell_type": "markdown",
   "metadata": {},
   "source": [
    "## 승률 데이터 접목하기"
   ]
  },
  {
   "cell_type": "code",
   "execution_count": 56,
   "metadata": {},
   "outputs": [],
   "source": [
    "# 흠 너무 느린데\n",
    "def win_match(accountId, matchId):\n",
    "    '''accountId가 matchId에서 이겼으면 True, 졌으면 False를 반환.내부에서 get_game_detail 리퀘스트를 보낸다 '''\n",
    "    \n",
    "    detail = get_game_detail(matchId)\n",
    "    \n",
    "    # get the participant Id of the user in the specific match\n",
    "    for p in detail['participantIdentities']:\n",
    "        if p['player']['accountId'] == accountId:\n",
    "            participantId = p['participantId']\n",
    "            break\n",
    "            \n",
    "    # team 100의 결과('Fail' or 'Win')\n",
    "    team100 = detail['teams'][0]['win'] \n",
    "    \n",
    "    # participant belongs to team 100\n",
    "    if participantId <= 5:    \n",
    "        return team100 == 'Win' \n",
    "    \n",
    "    # participant belongs to team 200\n",
    "    else:            \n",
    "        return team100 == 'Fail'"
   ]
  },
  {
   "cell_type": "code",
   "execution_count": 70,
   "metadata": {},
   "outputs": [
    {
     "name": "stdout",
     "output_type": "stream",
     "text": [
      "Exceeded Rate Limiting. Will retry After 80 seconds\n",
      "Exceeded Rate Limiting. Will retry After 79 seconds\n"
     ]
    }
   ],
   "source": [
    "match_df['win'] = [win_match(account_id, i) for i in match_df.index.values]"
   ]
  },
  {
   "cell_type": "code",
   "execution_count": 71,
   "metadata": {},
   "outputs": [
    {
     "data": {
      "text/html": [
       "<div>\n",
       "<style scoped>\n",
       "    .dataframe tbody tr th:only-of-type {\n",
       "        vertical-align: middle;\n",
       "    }\n",
       "\n",
       "    .dataframe tbody tr th {\n",
       "        vertical-align: top;\n",
       "    }\n",
       "\n",
       "    .dataframe thead th {\n",
       "        text-align: right;\n",
       "    }\n",
       "</style>\n",
       "<table border=\"1\" class=\"dataframe\">\n",
       "  <thead>\n",
       "    <tr style=\"text-align: right;\">\n",
       "      <th></th>\n",
       "      <th>creation</th>\n",
       "      <th>duration</th>\n",
       "      <th>ended</th>\n",
       "      <th>creation_dt</th>\n",
       "      <th>ended_dt</th>\n",
       "      <th>diff</th>\n",
       "      <th>win</th>\n",
       "    </tr>\n",
       "    <tr>\n",
       "      <th>matchId</th>\n",
       "      <th></th>\n",
       "      <th></th>\n",
       "      <th></th>\n",
       "      <th></th>\n",
       "      <th></th>\n",
       "      <th></th>\n",
       "      <th></th>\n",
       "    </tr>\n",
       "  </thead>\n",
       "  <tbody>\n",
       "    <tr>\n",
       "      <th>3663346965</th>\n",
       "      <td>1557981210348</td>\n",
       "      <td>1285</td>\n",
       "      <td>1557982495348</td>\n",
       "      <td>2019-05-16 13:33:30.348000+09:00</td>\n",
       "      <td>2019-05-16 13:54:55.348000+09:00</td>\n",
       "      <td>inf</td>\n",
       "      <td>True</td>\n",
       "    </tr>\n",
       "    <tr>\n",
       "      <th>3663315079</th>\n",
       "      <td>1557979516493</td>\n",
       "      <td>1501</td>\n",
       "      <td>1557981017493</td>\n",
       "      <td>2019-05-16 13:05:16.493000+09:00</td>\n",
       "      <td>2019-05-16 13:30:17.493000+09:00</td>\n",
       "      <td>1.928550e+05</td>\n",
       "      <td>False</td>\n",
       "    </tr>\n",
       "    <tr>\n",
       "      <th>3662344066</th>\n",
       "      <td>1557912999893</td>\n",
       "      <td>1220</td>\n",
       "      <td>1557914219893</td>\n",
       "      <td>2019-05-15 18:36:39.893000+09:00</td>\n",
       "      <td>2019-05-15 18:56:59.893000+09:00</td>\n",
       "      <td>6.529660e+07</td>\n",
       "      <td>True</td>\n",
       "    </tr>\n",
       "    <tr>\n",
       "      <th>3659959097</th>\n",
       "      <td>1557747014172</td>\n",
       "      <td>1783</td>\n",
       "      <td>1557748797172</td>\n",
       "      <td>2019-05-13 20:30:14.172000+09:00</td>\n",
       "      <td>2019-05-13 20:59:57.172000+09:00</td>\n",
       "      <td>1.642027e+08</td>\n",
       "      <td>False</td>\n",
       "    </tr>\n",
       "    <tr>\n",
       "      <th>3658808527</th>\n",
       "      <td>1557660795816</td>\n",
       "      <td>1698</td>\n",
       "      <td>1557662493816</td>\n",
       "      <td>2019-05-12 20:33:15.816000+09:00</td>\n",
       "      <td>2019-05-12 21:01:33.816000+09:00</td>\n",
       "      <td>8.452036e+07</td>\n",
       "      <td>False</td>\n",
       "    </tr>\n",
       "  </tbody>\n",
       "</table>\n",
       "</div>"
      ],
      "text/plain": [
       "                 creation  duration          ended  \\\n",
       "matchId                                              \n",
       "3663346965  1557981210348      1285  1557982495348   \n",
       "3663315079  1557979516493      1501  1557981017493   \n",
       "3662344066  1557912999893      1220  1557914219893   \n",
       "3659959097  1557747014172      1783  1557748797172   \n",
       "3658808527  1557660795816      1698  1557662493816   \n",
       "\n",
       "                                creation_dt                         ended_dt  \\\n",
       "matchId                                                                        \n",
       "3663346965 2019-05-16 13:33:30.348000+09:00 2019-05-16 13:54:55.348000+09:00   \n",
       "3663315079 2019-05-16 13:05:16.493000+09:00 2019-05-16 13:30:17.493000+09:00   \n",
       "3662344066 2019-05-15 18:36:39.893000+09:00 2019-05-15 18:56:59.893000+09:00   \n",
       "3659959097 2019-05-13 20:30:14.172000+09:00 2019-05-13 20:59:57.172000+09:00   \n",
       "3658808527 2019-05-12 20:33:15.816000+09:00 2019-05-12 21:01:33.816000+09:00   \n",
       "\n",
       "                    diff    win  \n",
       "matchId                          \n",
       "3663346965           inf   True  \n",
       "3663315079  1.928550e+05  False  \n",
       "3662344066  6.529660e+07   True  \n",
       "3659959097  1.642027e+08  False  \n",
       "3658808527  8.452036e+07  False  "
      ]
     },
     "execution_count": 71,
     "metadata": {},
     "output_type": "execute_result"
    }
   ],
   "source": [
    "match_df.head()"
   ]
  },
  {
   "cell_type": "markdown",
   "metadata": {},
   "source": [
    "### 참고: Dataframe의 Chained Assignment \n",
    "https://www.dataquest.io/blog/settingwithcopywarning/  \n",
    "문제 - 계속 SettingWithCopyWarning 나옴. bracket을 두 개 이상 사용해서(chaining) 접근한 subset of data는 original data가 아니라 copy 된 것. 여기에 할당을 해봤자 원데이터는 바뀌지 않는다\n",
    "해결책 - loc에 합친다  \n",
    "Chaining Assignment: `data[data.bidder == 'parakeet2004']['bidderrate'] = 100`   \n",
    "=> .loc을 활용한 single operation: `data.loc[data.bidder == 'parakeet2004', 'bidderrate'] = 100` "
   ]
  },
  {
   "cell_type": "code",
   "execution_count": 123,
   "metadata": {},
   "outputs": [],
   "source": [
    "# 몇 번째 판인지\n",
    "match_df['seq_idx'] = np.nan\n",
    "for seq in seq_df['matchIds']:\n",
    "    for idx, match in enumerate(seq):\n",
    "        match_df.loc[match, 'seq_idx'] = idx"
   ]
  },
  {
   "cell_type": "code",
   "execution_count": 124,
   "metadata": {},
   "outputs": [
    {
     "data": {
      "text/html": [
       "<div>\n",
       "<style scoped>\n",
       "    .dataframe tbody tr th:only-of-type {\n",
       "        vertical-align: middle;\n",
       "    }\n",
       "\n",
       "    .dataframe tbody tr th {\n",
       "        vertical-align: top;\n",
       "    }\n",
       "\n",
       "    .dataframe thead th {\n",
       "        text-align: right;\n",
       "    }\n",
       "</style>\n",
       "<table border=\"1\" class=\"dataframe\">\n",
       "  <thead>\n",
       "    <tr style=\"text-align: right;\">\n",
       "      <th></th>\n",
       "      <th>creation</th>\n",
       "      <th>duration</th>\n",
       "      <th>ended</th>\n",
       "      <th>creation_dt</th>\n",
       "      <th>ended_dt</th>\n",
       "      <th>diff</th>\n",
       "      <th>win</th>\n",
       "      <th>weekday</th>\n",
       "      <th>hour</th>\n",
       "      <th>seq_idx</th>\n",
       "    </tr>\n",
       "    <tr>\n",
       "      <th>matchId</th>\n",
       "      <th></th>\n",
       "      <th></th>\n",
       "      <th></th>\n",
       "      <th></th>\n",
       "      <th></th>\n",
       "      <th></th>\n",
       "      <th></th>\n",
       "      <th></th>\n",
       "      <th></th>\n",
       "      <th></th>\n",
       "    </tr>\n",
       "  </thead>\n",
       "  <tbody>\n",
       "    <tr>\n",
       "      <th>3663346965</th>\n",
       "      <td>1557981210348</td>\n",
       "      <td>1285</td>\n",
       "      <td>1557982495348</td>\n",
       "      <td>2019-05-16 13:33:30.348000+09:00</td>\n",
       "      <td>2019-05-16 13:54:55.348000+09:00</td>\n",
       "      <td>inf</td>\n",
       "      <td>True</td>\n",
       "      <td>3</td>\n",
       "      <td>13</td>\n",
       "      <td>0.0</td>\n",
       "    </tr>\n",
       "    <tr>\n",
       "      <th>3663315079</th>\n",
       "      <td>1557979516493</td>\n",
       "      <td>1501</td>\n",
       "      <td>1557981017493</td>\n",
       "      <td>2019-05-16 13:05:16.493000+09:00</td>\n",
       "      <td>2019-05-16 13:30:17.493000+09:00</td>\n",
       "      <td>1.928550e+05</td>\n",
       "      <td>False</td>\n",
       "      <td>3</td>\n",
       "      <td>13</td>\n",
       "      <td>1.0</td>\n",
       "    </tr>\n",
       "    <tr>\n",
       "      <th>3662344066</th>\n",
       "      <td>1557912999893</td>\n",
       "      <td>1220</td>\n",
       "      <td>1557914219893</td>\n",
       "      <td>2019-05-15 18:36:39.893000+09:00</td>\n",
       "      <td>2019-05-15 18:56:59.893000+09:00</td>\n",
       "      <td>6.529660e+07</td>\n",
       "      <td>True</td>\n",
       "      <td>2</td>\n",
       "      <td>18</td>\n",
       "      <td>0.0</td>\n",
       "    </tr>\n",
       "    <tr>\n",
       "      <th>3659959097</th>\n",
       "      <td>1557747014172</td>\n",
       "      <td>1783</td>\n",
       "      <td>1557748797172</td>\n",
       "      <td>2019-05-13 20:30:14.172000+09:00</td>\n",
       "      <td>2019-05-13 20:59:57.172000+09:00</td>\n",
       "      <td>1.642027e+08</td>\n",
       "      <td>False</td>\n",
       "      <td>0</td>\n",
       "      <td>20</td>\n",
       "      <td>0.0</td>\n",
       "    </tr>\n",
       "    <tr>\n",
       "      <th>3658808527</th>\n",
       "      <td>1557660795816</td>\n",
       "      <td>1698</td>\n",
       "      <td>1557662493816</td>\n",
       "      <td>2019-05-12 20:33:15.816000+09:00</td>\n",
       "      <td>2019-05-12 21:01:33.816000+09:00</td>\n",
       "      <td>8.452036e+07</td>\n",
       "      <td>False</td>\n",
       "      <td>6</td>\n",
       "      <td>20</td>\n",
       "      <td>0.0</td>\n",
       "    </tr>\n",
       "  </tbody>\n",
       "</table>\n",
       "</div>"
      ],
      "text/plain": [
       "                 creation  duration          ended  \\\n",
       "matchId                                              \n",
       "3663346965  1557981210348      1285  1557982495348   \n",
       "3663315079  1557979516493      1501  1557981017493   \n",
       "3662344066  1557912999893      1220  1557914219893   \n",
       "3659959097  1557747014172      1783  1557748797172   \n",
       "3658808527  1557660795816      1698  1557662493816   \n",
       "\n",
       "                                creation_dt                         ended_dt  \\\n",
       "matchId                                                                        \n",
       "3663346965 2019-05-16 13:33:30.348000+09:00 2019-05-16 13:54:55.348000+09:00   \n",
       "3663315079 2019-05-16 13:05:16.493000+09:00 2019-05-16 13:30:17.493000+09:00   \n",
       "3662344066 2019-05-15 18:36:39.893000+09:00 2019-05-15 18:56:59.893000+09:00   \n",
       "3659959097 2019-05-13 20:30:14.172000+09:00 2019-05-13 20:59:57.172000+09:00   \n",
       "3658808527 2019-05-12 20:33:15.816000+09:00 2019-05-12 21:01:33.816000+09:00   \n",
       "\n",
       "                    diff    win  weekday  hour  seq_idx  \n",
       "matchId                                                  \n",
       "3663346965           inf   True        3    13      0.0  \n",
       "3663315079  1.928550e+05  False        3    13      1.0  \n",
       "3662344066  6.529660e+07   True        2    18      0.0  \n",
       "3659959097  1.642027e+08  False        0    20      0.0  \n",
       "3658808527  8.452036e+07  False        6    20      0.0  "
      ]
     },
     "execution_count": 124,
     "metadata": {},
     "output_type": "execute_result"
    }
   ],
   "source": [
    "match_df.head()"
   ]
  },
  {
   "cell_type": "code",
   "execution_count": 150,
   "metadata": {},
   "outputs": [
    {
     "ename": "AttributeError",
     "evalue": "Cannot access attribute 'index' of 'DataFrameGroupBy' objects, try using the 'apply' method",
     "output_type": "error",
     "traceback": [
      "\u001b[0;31m---------------------------------------------------------------------------\u001b[0m",
      "\u001b[0;31mAttributeError\u001b[0m                            Traceback (most recent call last)",
      "\u001b[0;32m<ipython-input-150-ccdf9b54c3fd>\u001b[0m in \u001b[0;36m<module>\u001b[0;34m\u001b[0m\n\u001b[1;32m      1\u001b[0m \u001b[0mgrouped\u001b[0m \u001b[0;34m=\u001b[0m \u001b[0mmatch_df\u001b[0m\u001b[0;34m[\u001b[0m\u001b[0;34m[\u001b[0m\u001b[0;34m'win'\u001b[0m\u001b[0;34m,\u001b[0m \u001b[0;34m'seq_idx'\u001b[0m\u001b[0;34m]\u001b[0m\u001b[0;34m]\u001b[0m\u001b[0;34m.\u001b[0m\u001b[0mgroupby\u001b[0m\u001b[0;34m(\u001b[0m\u001b[0;34m'seq_idx'\u001b[0m\u001b[0;34m)\u001b[0m\u001b[0;34m\u001b[0m\u001b[0m\n\u001b[1;32m      2\u001b[0m \u001b[0mgrouped_win\u001b[0m \u001b[0;34m=\u001b[0m \u001b[0;34m(\u001b[0m\u001b[0mgrouped\u001b[0m\u001b[0;34m.\u001b[0m\u001b[0msum\u001b[0m\u001b[0;34m(\u001b[0m\u001b[0;34m)\u001b[0m\u001b[0;34m/\u001b[0m\u001b[0mgrouped\u001b[0m\u001b[0;34m.\u001b[0m\u001b[0mcount\u001b[0m\u001b[0;34m(\u001b[0m\u001b[0;34m)\u001b[0m\u001b[0;34m)\u001b[0m\u001b[0;34m[\u001b[0m\u001b[0;34m'win'\u001b[0m\u001b[0;34m]\u001b[0m\u001b[0;34m.\u001b[0m\u001b[0mvalues\u001b[0m\u001b[0;34m\u001b[0m\u001b[0m\n\u001b[0;32m----> 3\u001b[0;31m \u001b[0mgrouped\u001b[0m\u001b[0;34m.\u001b[0m\u001b[0mindex\u001b[0m\u001b[0;34m\u001b[0m\u001b[0m\n\u001b[0m",
      "\u001b[0;32m/usr/local/lib/python3.6/site-packages/pandas/core/groupby/groupby.py\u001b[0m in \u001b[0;36m__getattr__\u001b[0;34m(self, attr)\u001b[0m\n\u001b[1;32m    760\u001b[0m             \u001b[0;32mreturn\u001b[0m \u001b[0mself\u001b[0m\u001b[0;34m[\u001b[0m\u001b[0mattr\u001b[0m\u001b[0;34m]\u001b[0m\u001b[0;34m\u001b[0m\u001b[0m\n\u001b[1;32m    761\u001b[0m         \u001b[0;32mif\u001b[0m \u001b[0mhasattr\u001b[0m\u001b[0;34m(\u001b[0m\u001b[0mself\u001b[0m\u001b[0;34m.\u001b[0m\u001b[0mobj\u001b[0m\u001b[0;34m,\u001b[0m \u001b[0mattr\u001b[0m\u001b[0;34m)\u001b[0m\u001b[0;34m:\u001b[0m\u001b[0;34m\u001b[0m\u001b[0m\n\u001b[0;32m--> 762\u001b[0;31m             \u001b[0;32mreturn\u001b[0m \u001b[0mself\u001b[0m\u001b[0;34m.\u001b[0m\u001b[0m_make_wrapper\u001b[0m\u001b[0;34m(\u001b[0m\u001b[0mattr\u001b[0m\u001b[0;34m)\u001b[0m\u001b[0;34m\u001b[0m\u001b[0m\n\u001b[0m\u001b[1;32m    763\u001b[0m \u001b[0;34m\u001b[0m\u001b[0m\n\u001b[1;32m    764\u001b[0m         raise AttributeError(\"%r object has no attribute %r\" %\n",
      "\u001b[0;32m/usr/local/lib/python3.6/site-packages/pandas/core/groupby/groupby.py\u001b[0m in \u001b[0;36m_make_wrapper\u001b[0;34m(self, name)\u001b[0m\n\u001b[1;32m    797\u001b[0m                    \"using the 'apply' method\".format(kind, name,\n\u001b[1;32m    798\u001b[0m                                                      type(self).__name__))\n\u001b[0;32m--> 799\u001b[0;31m             \u001b[0;32mraise\u001b[0m \u001b[0mAttributeError\u001b[0m\u001b[0;34m(\u001b[0m\u001b[0mmsg\u001b[0m\u001b[0;34m)\u001b[0m\u001b[0;34m\u001b[0m\u001b[0m\n\u001b[0m\u001b[1;32m    800\u001b[0m \u001b[0;34m\u001b[0m\u001b[0m\n\u001b[1;32m    801\u001b[0m         \u001b[0mself\u001b[0m\u001b[0;34m.\u001b[0m\u001b[0m_set_group_selection\u001b[0m\u001b[0;34m(\u001b[0m\u001b[0;34m)\u001b[0m\u001b[0;34m\u001b[0m\u001b[0m\n",
      "\u001b[0;31mAttributeError\u001b[0m: Cannot access attribute 'index' of 'DataFrameGroupBy' objects, try using the 'apply' method"
     ]
    }
   ],
   "source": [
    "grouped = match_df[['win', 'seq_idx']].groupby('seq_idx')\n",
    "grouped_win = (grouped.sum()/grouped.count())['win'].values\n",
    "grouped.index"
   ]
  },
  {
   "cell_type": "code",
   "execution_count": 146,
   "metadata": {
    "scrolled": true
   },
   "outputs": [
    {
     "data": {
      "text/plain": [
       "[0, 1, 2, 3, 4, 5]"
      ]
     },
     "execution_count": 146,
     "metadata": {},
     "output_type": "execute_result"
    }
   ],
   "source": [
    "list(range(0,len(grouped)))"
   ]
  },
  {
   "cell_type": "code",
   "execution_count": 144,
   "metadata": {},
   "outputs": [
    {
     "data": {
      "text/plain": [
       "<matplotlib.axes._subplots.AxesSubplot at 0x127935a20>"
      ]
     },
     "execution_count": 144,
     "metadata": {},
     "output_type": "execute_result"
    },
    {
     "data": {
      "image/png": "[encoded data removed]",
      "text/plain": [
       "<Figure size 432x288 with 1 Axes>"
      ]
     },
     "metadata": {
      "needs_background": "light"
     },
     "output_type": "display_data"
    }
   ],
   "source": [
    "sns.pointplot(x=list(range(0,len(grouped))), y=grouped_win)\n",
    "sns.pointplot(x=[0,1,2,3,4,5], y=[3, 4, 5, 3,2,4])"
   ]
  },
  {
   "cell_type": "markdown",
   "metadata": {},
   "source": [
    "## Insights on Play Time"
   ]
  },
  {
   "cell_type": "markdown",
   "metadata": {},
   "source": [
    "### 한 번에 켰을 때 몇 판이나 연속으로 했을까  \n",
    "seaborn countplot"
   ]
  },
  {
   "cell_type": "code",
   "execution_count": 79,
   "metadata": {},
   "outputs": [
    {
     "data": {
      "text/plain": [
       "2    61\n",
       "1    53\n",
       "3    21\n",
       "4     6\n",
       "5     4\n",
       "6     3\n",
       "Name: matchNum, dtype: int64"
      ]
     },
     "execution_count": 79,
     "metadata": {},
     "output_type": "execute_result"
    }
   ],
   "source": [
    "matchNum = seq_df['matchNum'].value_counts()\n",
    "matchNum"
   ]
  },
  {
   "cell_type": "code",
   "execution_count": 82,
   "metadata": {},
   "outputs": [
    {
     "data": {
      "text/plain": [
       "Text(0,0.5,'Count')"
      ]
     },
     "execution_count": 82,
     "metadata": {},
     "output_type": "execute_result"
    },
    {
     "data": {
      "image/png": "[encoded data removed]",
      "text/plain": [
       "<Figure size 576x432 with 1 Axes>"
      ]
     },
     "metadata": {
      "needs_background": "light"
     },
     "output_type": "display_data"
    }
   ],
   "source": [
    "import matplotlib.pyplot as plt\n",
    "import seaborn as sns\n",
    "\n",
    "plt.figure(figsize=(8,6))\n",
    "sns.countplot(x='matchNum', data=seq_df)\n",
    "plt.xlabel('Number of Matches Played in a Row')\n",
    "plt.ylabel('Count')"
   ]
  },
  {
   "cell_type": "markdown",
   "metadata": {},
   "source": [
    "### 무슨 요일, 어떤 시간대에 게임을 할까  \n",
    "seaborn heatmap: https://seaborn.pydata.org/generated/seaborn.heatmap.html"
   ]
  },
  {
   "cell_type": "code",
   "execution_count": 103,
   "metadata": {},
   "outputs": [
    {
     "data": {
      "text/html": [
       "<div>\n",
       "<style scoped>\n",
       "    .dataframe tbody tr th:only-of-type {\n",
       "        vertical-align: middle;\n",
       "    }\n",
       "\n",
       "    .dataframe tbody tr th {\n",
       "        vertical-align: top;\n",
       "    }\n",
       "\n",
       "    .dataframe thead th {\n",
       "        text-align: right;\n",
       "    }\n",
       "</style>\n",
       "<table border=\"1\" class=\"dataframe\">\n",
       "  <thead>\n",
       "    <tr style=\"text-align: right;\">\n",
       "      <th>hour</th>\n",
       "      <th>0</th>\n",
       "      <th>1</th>\n",
       "      <th>2</th>\n",
       "      <th>8</th>\n",
       "      <th>9</th>\n",
       "      <th>10</th>\n",
       "      <th>11</th>\n",
       "      <th>12</th>\n",
       "      <th>13</th>\n",
       "      <th>14</th>\n",
       "      <th>15</th>\n",
       "      <th>16</th>\n",
       "      <th>17</th>\n",
       "      <th>18</th>\n",
       "      <th>19</th>\n",
       "      <th>20</th>\n",
       "      <th>21</th>\n",
       "      <th>22</th>\n",
       "      <th>23</th>\n",
       "    </tr>\n",
       "    <tr>\n",
       "      <th>weekday</th>\n",
       "      <th></th>\n",
       "      <th></th>\n",
       "      <th></th>\n",
       "      <th></th>\n",
       "      <th></th>\n",
       "      <th></th>\n",
       "      <th></th>\n",
       "      <th></th>\n",
       "      <th></th>\n",
       "      <th></th>\n",
       "      <th></th>\n",
       "      <th></th>\n",
       "      <th></th>\n",
       "      <th></th>\n",
       "      <th></th>\n",
       "      <th></th>\n",
       "      <th></th>\n",
       "      <th></th>\n",
       "      <th></th>\n",
       "    </tr>\n",
       "  </thead>\n",
       "  <tbody>\n",
       "    <tr>\n",
       "      <th>0</th>\n",
       "      <td>0.0</td>\n",
       "      <td>0.0</td>\n",
       "      <td>0.0</td>\n",
       "      <td>0.0</td>\n",
       "      <td>2.0</td>\n",
       "      <td>3.0</td>\n",
       "      <td>5.0</td>\n",
       "      <td>2.0</td>\n",
       "      <td>1.0</td>\n",
       "      <td>2.0</td>\n",
       "      <td>0.0</td>\n",
       "      <td>8.0</td>\n",
       "      <td>7.0</td>\n",
       "      <td>4.0</td>\n",
       "      <td>8.0</td>\n",
       "      <td>8.0</td>\n",
       "      <td>2.0</td>\n",
       "      <td>3.0</td>\n",
       "      <td>1.0</td>\n",
       "    </tr>\n",
       "    <tr>\n",
       "      <th>1</th>\n",
       "      <td>0.0</td>\n",
       "      <td>1.0</td>\n",
       "      <td>0.0</td>\n",
       "      <td>0.0</td>\n",
       "      <td>0.0</td>\n",
       "      <td>0.0</td>\n",
       "      <td>0.0</td>\n",
       "      <td>2.0</td>\n",
       "      <td>4.0</td>\n",
       "      <td>9.0</td>\n",
       "      <td>6.0</td>\n",
       "      <td>3.0</td>\n",
       "      <td>1.0</td>\n",
       "      <td>2.0</td>\n",
       "      <td>2.0</td>\n",
       "      <td>4.0</td>\n",
       "      <td>3.0</td>\n",
       "      <td>2.0</td>\n",
       "      <td>0.0</td>\n",
       "    </tr>\n",
       "    <tr>\n",
       "      <th>2</th>\n",
       "      <td>3.0</td>\n",
       "      <td>2.0</td>\n",
       "      <td>0.0</td>\n",
       "      <td>0.0</td>\n",
       "      <td>0.0</td>\n",
       "      <td>0.0</td>\n",
       "      <td>3.0</td>\n",
       "      <td>1.0</td>\n",
       "      <td>1.0</td>\n",
       "      <td>1.0</td>\n",
       "      <td>3.0</td>\n",
       "      <td>4.0</td>\n",
       "      <td>1.0</td>\n",
       "      <td>4.0</td>\n",
       "      <td>1.0</td>\n",
       "      <td>3.0</td>\n",
       "      <td>2.0</td>\n",
       "      <td>1.0</td>\n",
       "      <td>1.0</td>\n",
       "    </tr>\n",
       "    <tr>\n",
       "      <th>3</th>\n",
       "      <td>1.0</td>\n",
       "      <td>0.0</td>\n",
       "      <td>0.0</td>\n",
       "      <td>0.0</td>\n",
       "      <td>1.0</td>\n",
       "      <td>2.0</td>\n",
       "      <td>4.0</td>\n",
       "      <td>3.0</td>\n",
       "      <td>14.0</td>\n",
       "      <td>6.0</td>\n",
       "      <td>3.0</td>\n",
       "      <td>3.0</td>\n",
       "      <td>2.0</td>\n",
       "      <td>1.0</td>\n",
       "      <td>3.0</td>\n",
       "      <td>2.0</td>\n",
       "      <td>3.0</td>\n",
       "      <td>3.0</td>\n",
       "      <td>6.0</td>\n",
       "    </tr>\n",
       "    <tr>\n",
       "      <th>4</th>\n",
       "      <td>0.0</td>\n",
       "      <td>0.0</td>\n",
       "      <td>2.0</td>\n",
       "      <td>3.0</td>\n",
       "      <td>1.0</td>\n",
       "      <td>1.0</td>\n",
       "      <td>3.0</td>\n",
       "      <td>2.0</td>\n",
       "      <td>1.0</td>\n",
       "      <td>3.0</td>\n",
       "      <td>3.0</td>\n",
       "      <td>3.0</td>\n",
       "      <td>3.0</td>\n",
       "      <td>1.0</td>\n",
       "      <td>3.0</td>\n",
       "      <td>5.0</td>\n",
       "      <td>4.0</td>\n",
       "      <td>1.0</td>\n",
       "      <td>2.0</td>\n",
       "    </tr>\n",
       "    <tr>\n",
       "      <th>5</th>\n",
       "      <td>5.0</td>\n",
       "      <td>1.0</td>\n",
       "      <td>0.0</td>\n",
       "      <td>0.0</td>\n",
       "      <td>0.0</td>\n",
       "      <td>0.0</td>\n",
       "      <td>1.0</td>\n",
       "      <td>0.0</td>\n",
       "      <td>0.0</td>\n",
       "      <td>0.0</td>\n",
       "      <td>1.0</td>\n",
       "      <td>2.0</td>\n",
       "      <td>6.0</td>\n",
       "      <td>3.0</td>\n",
       "      <td>3.0</td>\n",
       "      <td>5.0</td>\n",
       "      <td>0.0</td>\n",
       "      <td>3.0</td>\n",
       "      <td>2.0</td>\n",
       "    </tr>\n",
       "    <tr>\n",
       "      <th>6</th>\n",
       "      <td>0.0</td>\n",
       "      <td>0.0</td>\n",
       "      <td>0.0</td>\n",
       "      <td>0.0</td>\n",
       "      <td>0.0</td>\n",
       "      <td>2.0</td>\n",
       "      <td>3.0</td>\n",
       "      <td>0.0</td>\n",
       "      <td>3.0</td>\n",
       "      <td>5.0</td>\n",
       "      <td>3.0</td>\n",
       "      <td>5.0</td>\n",
       "      <td>2.0</td>\n",
       "      <td>1.0</td>\n",
       "      <td>6.0</td>\n",
       "      <td>6.0</td>\n",
       "      <td>4.0</td>\n",
       "      <td>4.0</td>\n",
       "      <td>0.0</td>\n",
       "    </tr>\n",
       "  </tbody>\n",
       "</table>\n",
       "</div>"
      ],
      "text/plain": [
       "hour      0    1    2    8    9    10   11   12    13   14   15   16   17  \\\n",
       "weekday                                                                     \n",
       "0        0.0  0.0  0.0  0.0  2.0  3.0  5.0  2.0   1.0  2.0  0.0  8.0  7.0   \n",
       "1        0.0  1.0  0.0  0.0  0.0  0.0  0.0  2.0   4.0  9.0  6.0  3.0  1.0   \n",
       "2        3.0  2.0  0.0  0.0  0.0  0.0  3.0  1.0   1.0  1.0  3.0  4.0  1.0   \n",
       "3        1.0  0.0  0.0  0.0  1.0  2.0  4.0  3.0  14.0  6.0  3.0  3.0  2.0   \n",
       "4        0.0  0.0  2.0  3.0  1.0  1.0  3.0  2.0   1.0  3.0  3.0  3.0  3.0   \n",
       "5        5.0  1.0  0.0  0.0  0.0  0.0  1.0  0.0   0.0  0.0  1.0  2.0  6.0   \n",
       "6        0.0  0.0  0.0  0.0  0.0  2.0  3.0  0.0   3.0  5.0  3.0  5.0  2.0   \n",
       "\n",
       "hour      18   19   20   21   22   23  \n",
       "weekday                                \n",
       "0        4.0  8.0  8.0  2.0  3.0  1.0  \n",
       "1        2.0  2.0  4.0  3.0  2.0  0.0  \n",
       "2        4.0  1.0  3.0  2.0  1.0  1.0  \n",
       "3        1.0  3.0  2.0  3.0  3.0  6.0  \n",
       "4        1.0  3.0  5.0  4.0  1.0  2.0  \n",
       "5        3.0  3.0  5.0  0.0  3.0  2.0  \n",
       "6        1.0  6.0  6.0  4.0  4.0  0.0  "
      ]
     },
     "execution_count": 103,
     "metadata": {},
     "output_type": "execute_result"
    }
   ],
   "source": [
    "# https://seaborn.pydata.org/generated/seaborn.heatmap.html\n",
    "match_df['weekday'] = [dt.weekday() for dt in match_df['creation_dt']]\n",
    "match_df['hour'] = [dt.hour for dt in match_df['creation_dt']]\n",
    "matchTime = match_df.groupby('weekday')['hour'].value_counts().unstack().fillna(0)\n",
    "matchTime"
   ]
  },
  {
   "cell_type": "code",
   "execution_count": 104,
   "metadata": {},
   "outputs": [
    {
     "data": {
      "text/plain": [
       "251"
      ]
     },
     "execution_count": 104,
     "metadata": {},
     "output_type": "execute_result"
    }
   ],
   "source": [
    "sum(matchTime) # 왜 251개 밖에 안나오냐 어이없네"
   ]
  },
  {
   "cell_type": "code",
   "execution_count": 109,
   "metadata": {},
   "outputs": [
    {
     "data": {
      "image/png": "[encoded data removed]",
      "text/plain": [
       "<Figure size 864x432 with 2 Axes>"
      ]
     },
     "metadata": {
      "needs_background": "light"
     },
     "output_type": "display_data"
    }
   ],
   "source": [
    "# 접속 시간대 분포 --> 게임이 30분~한 시간이니까 한 시간 단위로 끊으면 안될것같아\n",
    "plt.figure(figsize=(12,6))\n",
    "ax = sns.heatmap(matchTime, linewidths=.5, cmap=\"YlGnBu\", yticklabels=['Mon', 'Tue', 'Wed', 'Thu', 'Fri', 'Sat', 'Sun'])"
   ]
  },
  {
   "cell_type": "code",
   "execution_count": null,
   "metadata": {},
   "outputs": [],
   "source": [
    "# 간단히 한 판 하는 시간대 vs 여러 판 하는 시간대"
   ]
  }
 ],
 "metadata": {
  "kernelspec": {
   "display_name": "Python 3",
   "language": "python",
   "name": "python3"
  },
  "language_info": {
   "codemirror_mode": {
    "name": "ipython",
    "version": 3
   },
   "file_extension": ".py",
   "mimetype": "text/x-python",
   "name": "python",
   "nbconvert_exporter": "python",
   "pygments_lexer": "ipython3",
   "version": "3.6.5"
  }
 },
 "nbformat": 4,
 "nbformat_minor": 2
}
