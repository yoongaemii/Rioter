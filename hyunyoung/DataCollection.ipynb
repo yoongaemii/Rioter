{
 "cells": [
  {
   "cell_type": "code",
   "execution_count": 1,
   "metadata": {},
   "outputs": [],
   "source": [
    "from RiotAPI import *\n",
    "import pickle\n",
    "import time"
   ]
  },
  {
   "cell_type": "markdown",
   "metadata": {},
   "source": [
    "# 사전준비   \n",
    "랭크별 summoner name의 list   \n",
    "https://developer.riotgames.com/api-methods/#league-v4/GET_getLeagueEntries\n",
    "- tiers = ['IRON', 'BRONZE', 'SILVER', 'GOLD', 'PLATINUM', 'DIAMOND']\n",
    "- divisions = ['I', 'II', 'III', 'IV']\n",
    "- queue = ['RANKED_SOLO_5x5', 'RANKED_FLEX_SR', 'RANKED_FLEX_TT']  \n",
    "\n",
    "랭크별 account의 list: { 랭크이름: account_id의 list } "
   ]
  },
  {
   "cell_type": "code",
   "execution_count": null,
   "metadata": {},
   "outputs": [],
   "source": [
    "tier = 'BRONZE'\n",
    "divisions = ['I', 'II', 'III', 'IV']\n",
    "queue = 'RANKED_SOLO_5x5' # 솔랭을 기준으로\n",
    "\n",
    "summoners = []\n",
    "\n",
    "for div in divisions:\n",
    "    summoners.extend(get_entry(queue, tier, div))"
   ]
  },
  {
   "cell_type": "code",
   "execution_count": null,
   "metadata": {},
   "outputs": [],
   "source": [
    "# get a list of account id for a list of summoner id\n",
    "accounts = []\n",
    "error = []\n",
    "\n",
    "for index, smr in enumerate(summoners):\n",
    "    try:\n",
    "        accounts.append(get_account_id_by_summonerId(smr))\n",
    "        print(\"Summoner No.{} Collected\".format(str(index)))\n",
    "    except:\n",
    "        pass"
   ]
  },
  {
   "cell_type": "code",
   "execution_count": null,
   "metadata": {},
   "outputs": [],
   "source": [
    "accounts[:5]"
   ]
  },
  {
   "cell_type": "code",
   "execution_count": null,
   "metadata": {},
   "outputs": [],
   "source": [
    "# save as pickle\n",
    "fn = \"pickle/tmp_bronze_account.pickle\"\n",
    "with open(fn, 'wb') as f:\n",
    "    pickle.dump(accounts, f)\n",
    "\n",
    "fn = \"pickle/tmp_bronze_summoner.pickle\"\n",
    "with open(fn, 'wb') as f:\n",
    "    pickle.dump(summoners, f)\n",
    "\n",
    "error = ['베어마흐트', 'GuiItyCronw', 'haowugujide', '족장병만']"
   ]
  },
  {
   "cell_type": "code",
   "execution_count": 2,
   "metadata": {},
   "outputs": [],
   "source": [
    "# 820\n",
    "with open('pickle/bronze_account.pickle', 'rb') as f:\n",
    "    full_account = pickle.load(f)\n",
    "\n",
    "# 816\n",
    "with open('pickle/tmp_bronze_account.pickle', 'rb') as f:\n",
    "    broken_account = pickle.load(f)"
   ]
  },
  {
   "cell_type": "code",
   "execution_count": 3,
   "metadata": {},
   "outputs": [],
   "source": [
    "# 820개 account id 중에서 816개 tmp account에 없는 것들 matchreference 추가적으로 뽑기\n",
    "changed = [usr for usr in full_account if usr not in broken_account]"
   ]
  },
  {
   "cell_type": "code",
   "execution_count": 4,
   "metadata": {},
   "outputs": [
    {
     "data": {
      "text/plain": [
       "['nY0bou1YncM-r9dEy2t2jyCY7OGP6kr0NnoUKTmGwzDz',\n",
       " 'iPoSU8Bwma_Hph8oZR2j4A_KgYDuuet78u9JkgtI5NMs',\n",
       " 'URJiY4FcLFm8eQtp4kZ6WffCJ2QlwDJ3f10KTXyC4Osw',\n",
       " 'zPq2yhj0RmFZd6aYw_ZrNL0dTJVA2IRXltvisMdsBibg',\n",
       " 'D-ZW3os8KhmSEuYxxGYq_8qdsTnBADe8Dz6Rhu6kDK5Y',\n",
       " 'cIbXM8NIQnfUHLaGbRIS_zuI1hLY_uWY_IeGPaFPkq2e']"
      ]
     },
     "execution_count": 4,
     "metadata": {},
     "output_type": "execute_result"
    }
   ],
   "source": [
    "changed # 왜 여섯개가 나오지"
   ]
  },
  {
   "cell_type": "markdown",
   "metadata": {},
   "source": [
    "# account_id 별 MatchReference\n",
    "https://developer.riotgames.com/api-methods/#match-v4/GET_getMatchlist   \n",
    ": { account_id : MatchReference의 list }"
   ]
  },
  {
   "cell_type": "code",
   "execution_count": null,
   "metadata": {
    "scrolled": true
   },
   "outputs": [],
   "source": [
    "hst_error =[]\n",
    "match_history = {}\n",
    "\n",
    "for index, acc in enumerate(accounts):\n",
    "    try:\n",
    "        match_history[acc] = get_match_history(acc)\n",
    "        print(\"Match History for Account No.{} Collected\".format(str(index)))\n",
    "    except:\n",
    "        hst_error.append(acc)"
   ]
  },
  {
   "cell_type": "code",
   "execution_count": null,
   "metadata": {},
   "outputs": [],
   "source": [
    "# save data\n",
    "fn = \"pickle/tmp_bronze_match_history.pickle\"\n",
    "with open(fn, 'wb') as f:\n",
    "    pickle.dump(match_history, f)\n",
    "\n",
    "fn = \"pickle/tmp_bronze_match_history_error.pickle\"\n",
    "with open(fn, 'wb') as f:\n",
    "    pickle.dump(hst_error, f)"
   ]
  },
  {
   "cell_type": "code",
   "execution_count": null,
   "metadata": {},
   "outputs": [],
   "source": [
    "print(len(match_history))\n",
    "match_history[accounts[0]][:5]"
   ]
  },
  {
   "cell_type": "code",
   "execution_count": null,
   "metadata": {},
   "outputs": [],
   "source": [
    "print(len(hst_error))\n",
    "hst_error"
   ]
  },
  {
   "cell_type": "markdown",
   "metadata": {},
   "source": [
    "# match_id 의 MatchDto  \n",
    "https://developer.riotgames.com/api-methods/#match-v4/GET_getMatch   \n",
    ": {match_id: Match}"
   ]
  },
  {
   "cell_type": "code",
   "execution_count": 16,
   "metadata": {},
   "outputs": [
    {
     "name": "stdout",
     "output_type": "stream",
     "text": [
      "698490\n",
      "[2856321024, 3596615682, 3575644165, 3227269439, 3125805063, 3253731338, 3084910603, 3017801738, 2683305997, 2625634318]\n"
     ]
    }
   ],
   "source": [
    "with open('pickle/tmp_bronze_match_history.pickle', 'rb') as f:\n",
    "    match_history = pickle.load(f)\n",
    "\n",
    "# list up unique game id\n",
    "games = [match['gameId'] for key, matchList in match_history.items() for match in matchList]\n",
    "unq_games = list(set(games))\n",
    "\n",
    "print(len(unq_games))\n",
    "print(unq_games[:10])"
   ]
  },
  {
   "cell_type": "code",
   "execution_count": 30,
   "metadata": {},
   "outputs": [],
   "source": [
    "fn = \"pickle/unq_games.pickle\"\n",
    "with open(fn, 'wb') as f:\n",
    "    pickle.dump(unq_games, f)"
   ]
  },
  {
   "cell_type": "code",
   "execution_count": null,
   "metadata": {},
   "outputs": [],
   "source": [
    "for i in range(0, 6984):\n",
    "    \n",
    "    # save as file for every 100 game detail\n",
    "    rng = (i*100, (i+1)*100)\n",
    "\n",
    "    match_detail = {} # dictionary to save game detail\n",
    "    detail_error = [] # list of broken match id\n",
    "\n",
    "    # starting requests\n",
    "    start = time.time() \n",
    "    \n",
    "    for index, match in unq_games[rng[0]:rng[1]]:\n",
    "        try:\n",
    "            match_detail[match] = get_match_detail(match)\n",
    "        except:\n",
    "            print(\"Match No.{} Broken\".format(str(index)))\n",
    "            detail_error.append(match)\n",
    "    \n",
    "    # requests completed\n",
    "    end = time.time() \n",
    "    delta = (end - start)/60\n",
    "    print(\"======= {0}th 100 Matches Completed: took {1} minutes =====\".format(str(i), str(delta))\n",
    "    \n",
    "    # save as pickle\n",
    "    fn = \"pickle/detail/match_detail\"+str(rng[0])+\"_\"+str(rng[1])+\".pickle\"\n",
    "    with open(fn, 'wb') as f:\n",
    "        pickle.dump(match_detail, f)\n",
    "\n",
    "    fn = \"pickle/detail/detail_error\"+str(rng[0])+\"_\"+str(rng[1])+\".pickle\"\n",
    "    with open(fn, 'wb') as f:\n",
    "        pickle.dump(detail_error, f)"
   ]
  }
 ],
 "metadata": {
  "kernelspec": {
   "display_name": "Python 3",
   "language": "python",
   "name": "python3"
  },
  "language_info": {
   "codemirror_mode": {
    "name": "ipython",
    "version": 3
   },
   "file_extension": ".py",
   "mimetype": "text/x-python",
   "name": "python",
   "nbconvert_exporter": "python",
   "pygments_lexer": "ipython3",
   "version": "3.6.5"
  }
 },
 "nbformat": 4,
 "nbformat_minor": 2
}
